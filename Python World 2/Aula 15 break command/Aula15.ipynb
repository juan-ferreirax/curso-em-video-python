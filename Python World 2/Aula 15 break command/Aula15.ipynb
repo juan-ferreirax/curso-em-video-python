{
 "cells": [
  {
   "cell_type": "markdown",
   "id": "21233110",
   "metadata": {},
   "source": [
    "66. Leitura de inteiros com break"
   ]
  },
  {
   "cell_type": "code",
   "execution_count": 2,
   "id": "cf65c88f",
   "metadata": {},
   "outputs": [
    {
     "name": "stdout",
     "output_type": "stream",
     "text": [
      "Foram digitados 4 números e a soma entre eles é 10\n"
     ]
    }
   ],
   "source": [
    "nums = 0\n",
    "sum = 0\n",
    "\n",
    "while True:\n",
    "    num = int(input(\"Informe um número inteiro(999 para sair): \"))\n",
    "    if num == 999:\n",
    "        break\n",
    "    sum = sum + num\n",
    "    nums += 1\n",
    "print(f\"Foram digitados {nums} números e a soma entre eles é {sum}\")\n"
   ]
  },
  {
   "cell_type": "markdown",
   "id": "f54cb4ed",
   "metadata": {},
   "source": [
    "67. Tabuada com break"
   ]
  },
  {
   "cell_type": "code",
   "execution_count": 4,
   "id": "5175bfd8",
   "metadata": {},
   "outputs": [
    {
     "name": "stdout",
     "output_type": "stream",
     "text": [
      "7 x 1 = 7\n",
      "7 x 2 = 14\n",
      "7 x 3 = 21\n",
      "7 x 4 = 28\n",
      "7 x 5 = 35\n",
      "7 x 6 = 42\n",
      "7 x 7 = 49\n",
      "7 x 8 = 56\n",
      "7 x 9 = 63\n",
      "7 x 10 = 70\n",
      "------------\n",
      "8 x 1 = 8\n",
      "8 x 2 = 16\n",
      "8 x 3 = 24\n",
      "8 x 4 = 32\n",
      "8 x 5 = 40\n",
      "8 x 6 = 48\n",
      "8 x 7 = 56\n",
      "8 x 8 = 64\n",
      "8 x 9 = 72\n",
      "8 x 10 = 80\n",
      "------------\n",
      "Programa finalizado com sucesso!\n"
     ]
    }
   ],
   "source": [
    "while True:\n",
    "    num = int(input(\"Informe um inteiro para ver a tabuada(negativo para sair): \"))\n",
    "    if num < 0:\n",
    "        print(\"Programa finalizado com sucesso!\")\n",
    "        break\n",
    "    for i in range(1,11):\n",
    "        t = i * num\n",
    "        print(f\"{num} x {i} = {t}\")\n",
    "    print(\"-\" * 12)"
   ]
  },
  {
   "cell_type": "markdown",
   "id": "d7cf9fe7",
   "metadata": {},
   "source": [
    "68. Par ou ímpar com break"
   ]
  },
  {
   "cell_type": "code",
   "execution_count": 7,
   "id": "429ccbcf",
   "metadata": {},
   "outputs": [
    {
     "name": "stdout",
     "output_type": "stream",
     "text": [
      "=================\n",
      "JOGO PAR OU ÍMPAR\n",
      "=================\n",
      "PAR\n",
      "Você escolheu PAR e o PC escolheu ÍMPAR \n",
      "Você venceu! 2 + 4 = 6 que é PAR\n",
      "Você fez 1 vitórias consecutivas!\n",
      "PAR\n",
      "Você escolheu PAR e o PC escolheu ÍMPAR \n",
      "Você perdeu! 6 + 7 = 13 que não é PAR\n",
      "Você fez 1 vitórias consecutivas!\n"
     ]
    }
   ],
   "source": [
    "import random\n",
    "\n",
    "print(\"=\" * 17)\n",
    "print(\"JOGO PAR OU ÍMPAR\")\n",
    "print(\"=\" * 17)\n",
    "\n",
    "vitorias = 0\n",
    "while True:\n",
    "    user_escolha = input(\"Escolha PAR ou ÍMPAR: \").upper()\n",
    "    print(user_escolha)\n",
    "    if user_escolha == \"PAR\":\n",
    "        pc_escolha = \"ÍMPAR\"\n",
    "    else:\n",
    "        pc_escolha = \"PAR\"\n",
    "    print(f\"Você escolheu {user_escolha} e o PC escolheu {pc_escolha} \")\n",
    "    user_num = int(input(\"Escolha um número de 0 a 10: \"))\n",
    "    pc_num = random.randint(0,10)\n",
    "\n",
    "    resultado = user_num + pc_num\n",
    "\n",
    "    if resultado % 2 == 0:\n",
    "        if user_escolha == \"PAR\":\n",
    "            print(f\"Você venceu! {user_num} + {pc_num} = {resultado} que é PAR\")\n",
    "            vitorias += 1\n",
    "            print(f\"Você fez {vitorias} vitórias consecutivas!\")\n",
    "        elif user_escolha in [\"ÍMPAR\",\"IMPAR\"]:\n",
    "            print(f\"Você perdeu! {user_num} + {pc_num} = {resultado} que não é ÍMPAR\")\n",
    "            print(f\"Você fez {vitorias} vitórias consecutivas!\")\n",
    "            break\n",
    "    elif resultado % 2 != 0:\n",
    "        if user_escolha in [\"ÍMPAR\",\"IMPAR\"]:\n",
    "            print(f\"Você venceu! {user_num} + {pc_num} = {resultado} que é ÍMPAR\")\n",
    "            vitorias += 1\n",
    "            print(f\"Você fez {vitorias} vitórias consecutivas!\")\n",
    "        else:\n",
    "            print(f\"Você perdeu! {user_num} + {pc_num} = {resultado} que não é PAR\")\n",
    "            print(f\"Você fez {vitorias} vitórias consecutivas!\")\n",
    "            break"
   ]
  },
  {
   "cell_type": "markdown",
   "id": "2618dc95",
   "metadata": {},
   "source": [
    "69. Cadastro de pessoas"
   ]
  },
  {
   "cell_type": "code",
   "execution_count": null,
   "id": "fd257752",
   "metadata": {},
   "outputs": [
    {
     "name": "stdout",
     "output_type": "stream",
     "text": [
      "===================\n",
      "CADASTRO DE PESSOAS\n",
      "===================\n",
      "Cadastro realizado com sucesso!\n",
      "Cadastro realizado com sucesso!\n",
      "Cadastro realizado com sucesso!\n",
      "Cadastro realizado com sucesso!\n",
      "3 pessoas são maior de idade\n",
      "2 homens foram cadastrados\n",
      "1 mulheres tem menos que 20 anos\n"
     ]
    }
   ],
   "source": [
    "escolha = \"\"\n",
    "quant_homens = 0\n",
    "maior_idade = 0\n",
    "mulheres_jovens = 0\n",
    "\n",
    "print(\"=\" * 19)\n",
    "print(\"CADASTRO DE PESSOAS\")\n",
    "print(\"=\" * 19)\n",
    "while escolha != \"N\":\n",
    "    while True:\n",
    "        idade = int(input(\"Informe sua idade: \"))\n",
    "        if idade < 1 or idade > 122:\n",
    "            print(\"Informe uma idade válida!\")\n",
    "        elif idade >= 18:\n",
    "            maior_idade += 1\n",
    "        break\n",
    "\n",
    "    while True:\n",
    "        sexo = input(\"Informe M/F: \").upper()\n",
    "        if sexo == \"M\":\n",
    "            quant_homens += 1\n",
    "            break\n",
    "        elif sexo == \"F\":\n",
    "            if idade < 20:\n",
    "                mulheres_jovens += 1\n",
    "            break\n",
    "        elif sexo not in [\"M\",\"F\"]:\n",
    "            print(\"Informe um sexo válido!\")\n",
    "    \n",
    "    print(\"Cadastro realizado com sucesso!\", flush=True)\n",
    "    \n",
    "    while True:\n",
    "        escolha = input(\"Deseja cadastrar mais alguém?(s/n): \\n\").upper()\n",
    "        if escolha != \"N\" and escolha != \"S\":\n",
    "            print(\"Informe uma opção válida!\")\n",
    "        else:\n",
    "            break\n",
    "print(f\"{maior_idade} pessoas são maior de idade\")\n",
    "print(f\"{quant_homens} homens foram cadastrados\")\n",
    "print(f\"{mulheres_jovens} mulheres tem menos que 20 anos\")\n",
    "        "
   ]
  },
  {
   "cell_type": "markdown",
   "id": "01b3f339",
   "metadata": {},
   "source": [
    "70. Leitura de Produtos"
   ]
  },
  {
   "cell_type": "code",
   "execution_count": 1,
   "id": "c0a96a07",
   "metadata": {},
   "outputs": [
    {
     "ename": "ValueError",
     "evalue": "could not convert string to float: ''",
     "output_type": "error",
     "traceback": [
      "\u001b[31m---------------------------------------------------------------------------\u001b[39m",
      "\u001b[31mValueError\u001b[39m                                Traceback (most recent call last)",
      "\u001b[36mCell\u001b[39m\u001b[36m \u001b[39m\u001b[32mIn[1]\u001b[39m\u001b[32m, line 9\u001b[39m\n\u001b[32m      7\u001b[39m \u001b[38;5;28;01mwhile\u001b[39;00m op != \u001b[33m\"\u001b[39m\u001b[33mN\u001b[39m\u001b[33m\"\u001b[39m:\n\u001b[32m      8\u001b[39m     product_name = \u001b[38;5;28minput\u001b[39m(\u001b[33m\"\u001b[39m\u001b[33mInforme o nome do produto: \u001b[39m\u001b[33m\"\u001b[39m)\n\u001b[32m----> \u001b[39m\u001b[32m9\u001b[39m     product_price = \u001b[38;5;28;43mfloat\u001b[39;49m\u001b[43m(\u001b[49m\u001b[38;5;28;43minput\u001b[39;49m\u001b[43m(\u001b[49m\u001b[33;43m\"\u001b[39;49m\u001b[33;43mInforme o preço: \u001b[39;49m\u001b[33;43m\"\u001b[39;49m\u001b[43m)\u001b[49m\u001b[43m)\u001b[49m\n\u001b[32m     11\u001b[39m     \u001b[38;5;28;01mif\u001b[39;00m cheapest_product_price == \u001b[32m0\u001b[39m \u001b[38;5;129;01mor\u001b[39;00m product_price < cheapest_product_price:\n\u001b[32m     12\u001b[39m         cheapest_product_price = product_price\n",
      "\u001b[31mValueError\u001b[39m: could not convert string to float: ''"
     ]
    }
   ],
   "source": [
    "total_gasto = 0\n",
    "quant_expensive_products = 0\n",
    "cheapest_product_price = 0\n",
    "cheapest_product_name = \"\"\n",
    "\n",
    "op = \"\"\n",
    "while op != \"N\":\n",
    "    product_name = input(\"Informe o nome do produto: \")\n",
    "    product_price = float(input(\"Informe o preço: \"))\n",
    "\n",
    "    if cheapest_product_price == 0 or product_price < cheapest_product_price:\n",
    "        cheapest_product_price = product_price\n",
    "        cheapest_product_name = product_name\n",
    "\n",
    "    if product_price > 1000.00:\n",
    "        quant_expensive_products += 1\n",
    "    \n",
    "    total_gasto = total_gasto + product_price\n",
    "\n",
    "    op = input(\"Deseja continuar?(S/N): \").upper()\n",
    "    while op != \"S\" and op != \"N\":\n",
    "        if op not in [\"S\", \"N\"]:\n",
    "           print(\"Opção inválida, tente novamente!\")\n",
    "        else:\n",
    "            break\n",
    "    \n",
    "print(f\"Foi gasto no total R${total_gasto:.2f}.\")\n",
    "print(f\"{quant_expensive_products} produto(s) custam mais que R$1000.00.\")\n",
    "print(f\"O {cheapest_product_name} é o produto mais barato custando R${cheapest_product_price:.2f}\")"
   ]
  },
  {
   "cell_type": "markdown",
   "id": "4f68c124",
   "metadata": {},
   "source": [
    "71. Caixa eletrônico"
   ]
  },
  {
   "cell_type": "code",
   "execution_count": 10,
   "id": "de901e6c",
   "metadata": {},
   "outputs": [
    {
     "name": "stdout",
     "output_type": "stream",
     "text": [
      "================================\n",
      "        CAIXA ELETRÔNICO        \n",
      "================================\n",
      "Serão entregues: \n",
      "\n",
      "3 notas de R$50,00 \n",
      "0 notas de R$20,00 \n",
      "1 notas de R$10,00 \n",
      "3 notas de R$1,00\n"
     ]
    }
   ],
   "source": [
    "print(\"=\" * 32)\n",
    "print(\"CAIXA ELETRÔNICO\".center(32, \" \")) #532\n",
    "print(\"=\" * 32)\n",
    "\n",
    "valor_saque = int(input(\"Informe o valor a ser sacado: \"))\n",
    "nota_50 = int(valor_saque / 50)\n",
    "nota_20 = int((valor_saque % 50) / 20)\n",
    "nota_10 = int(((valor_saque % 50) % 20) / 10)\n",
    "nota_1 = int((((valor_saque % 50) % 20) % 10) / 1)\n",
    "\n",
    "print(f\"Serão entregues: \\n\\n{nota_50} notas de R$50,00 \\n{nota_20} notas de R$20,00 \\n{nota_10} notas de R$10,00 \\n{nota_1} notas de R$1,00\")"
   ]
  }
 ],
 "metadata": {
  "kernelspec": {
   "display_name": ".venv",
   "language": "python",
   "name": "python3"
  },
  "language_info": {
   "codemirror_mode": {
    "name": "ipython",
    "version": 3
   },
   "file_extension": ".py",
   "mimetype": "text/x-python",
   "name": "python",
   "nbconvert_exporter": "python",
   "pygments_lexer": "ipython3",
   "version": "3.12.3"
  }
 },
 "nbformat": 4,
 "nbformat_minor": 5
}

{
 "cells": [
  {
   "cell_type": "markdown",
   "id": "85c147f4",
   "metadata": {},
   "source": [
    "Exemplo explicativo"
   ]
  },
  {
   "cell_type": "code",
   "execution_count": 1,
   "id": "6e11c3c6",
   "metadata": {},
   "outputs": [
    {
     "name": "stdout",
     "output_type": "stream",
     "text": [
      "0\n",
      "1\n",
      "2\n",
      "3\n"
     ]
    }
   ],
   "source": [
    "n = int(input(\"Digite um número: \"))\n",
    "for c in range(0, n + 1):\n",
    "    print(c)"
   ]
  },
  {
   "cell_type": "markdown",
   "id": "98342b8e",
   "metadata": {},
   "source": [
    "46. Contagem regressiva"
   ]
  },
  {
   "cell_type": "code",
   "execution_count": null,
   "id": "4c8e632c",
   "metadata": {},
   "outputs": [
    {
     "name": "stdout",
     "output_type": "stream",
     "text": [
      "10\n",
      "9\n",
      "8\n",
      "7\n",
      "6\n",
      "5\n",
      "4\n",
      "3\n",
      "2\n",
      "1\n",
      "BOOM!!!\n"
     ]
    }
   ],
   "source": [
    "from time import sleep\n",
    "#loop for decrementando\n",
    "for i in range(10, 0, -1):\n",
    "    print(i)\n",
    "    sleep(1)\n",
    "print(\"BOOM!!!\")"
   ]
  },
  {
   "cell_type": "markdown",
   "id": "aeec7b51",
   "metadata": {},
   "source": [
    "47.Números pares de 1 a 50"
   ]
  },
  {
   "cell_type": "code",
   "execution_count": 8,
   "id": "f660b293",
   "metadata": {},
   "outputs": [
    {
     "name": "stdout",
     "output_type": "stream",
     "text": [
      "2\n",
      "4\n",
      "6\n",
      "8\n",
      "10\n",
      "12\n",
      "14\n",
      "16\n",
      "18\n",
      "20\n",
      "22\n",
      "24\n",
      "26\n",
      "28\n",
      "30\n",
      "32\n",
      "34\n",
      "36\n",
      "38\n",
      "40\n",
      "42\n",
      "44\n",
      "46\n",
      "48\n",
      "50\n"
     ]
    }
   ],
   "source": [
    "for i in range(1, 51):\n",
    "   if i % 2 == 0:\n",
    "      print(i)"
   ]
  },
  {
   "cell_type": "markdown",
   "id": "d60ead40",
   "metadata": {},
   "source": [
    "48. Somatório de números impares"
   ]
  },
  {
   "cell_type": "code",
   "execution_count": 25,
   "id": "0f896a28",
   "metadata": {},
   "outputs": [
    {
     "name": "stdout",
     "output_type": "stream",
     "text": [
      "20667\n"
     ]
    }
   ],
   "source": [
    "c = 0\n",
    "for i in range(1, 501):\n",
    "    if i % 2 == 1 and i % 3 == 0:\n",
    "        c = c + i\n",
    "print(c)"
   ]
  },
  {
   "cell_type": "markdown",
   "id": "c7f4115a",
   "metadata": {},
   "source": [
    "49. Tabuada v2.0"
   ]
  },
  {
   "cell_type": "code",
   "execution_count": 3,
   "id": "a2cb599b",
   "metadata": {},
   "outputs": [
    {
     "name": "stdout",
     "output_type": "stream",
     "text": [
      "9 x 0 = 0\n",
      "9 x 1 = 9\n",
      "9 x 2 = 18\n",
      "9 x 3 = 27\n",
      "9 x 4 = 36\n",
      "9 x 5 = 45\n",
      "9 x 6 = 54\n",
      "9 x 7 = 63\n",
      "9 x 8 = 72\n",
      "9 x 9 = 81\n",
      "9 x 10 = 90\n"
     ]
    }
   ],
   "source": [
    "n = int(input(\"Informe um inteiro para tabuada: \"))\n",
    "for i in range(0, 11):\n",
    "    t = n * i\n",
    "    print(f\"{n} x {i} = {t}\")"
   ]
  },
  {
   "cell_type": "markdown",
   "id": "6d278fa3",
   "metadata": {},
   "source": [
    "50. Soma de pares ignorando ímpares"
   ]
  },
  {
   "cell_type": "code",
   "execution_count": 18,
   "id": "6114741c",
   "metadata": {},
   "outputs": [
    {
     "name": "stdout",
     "output_type": "stream",
     "text": [
      "Os números informados foram: [1, 2, 3, 4, 5, 6]\n",
      "Os números pares são: [2, 4, 6]\n",
      "O somatório desses números é: 12\n"
     ]
    }
   ],
   "source": [
    "numlist = []\n",
    "parlist = []\n",
    "\n",
    "for i in range(0, 6):\n",
    "    list = int(input(\"Informe seis inteiros: \"))\n",
    "    numlist.append(list)\n",
    "\n",
    "    if list % 2 == 0:\n",
    "        parlist.append(list)\n",
    "print(f\"Os números informados foram: {numlist}\")\n",
    "print(f\"Os números pares são: {parlist}\")\n",
    "print(f\"O somatório desses números é: {sum(parlist)}\")\n"
   ]
  },
  {
   "cell_type": "markdown",
   "id": "84ae1b68",
   "metadata": {},
   "source": [
    "51. Calcular e mostrar termos de uma PA"
   ]
  },
  {
   "cell_type": "code",
   "execution_count": 35,
   "id": "c792d40c",
   "metadata": {},
   "outputs": [
    {
     "name": "stdout",
     "output_type": "stream",
     "text": [
      "O primeiro termo informado é: 2\n",
      "A razão da PA é: 2\n",
      "A PA é: [2, 4, 6, 8, 10, 12, 14, 16, 18, 20]\n"
     ]
    }
   ],
   "source": [
    "pa = []\n",
    "t1 = int(input(\"Informe o primeiro termo da PA: \"))\n",
    "r = int(input(\"Informe a razão da PA: \"))\n",
    "\n",
    "for i in range(0, 10):\n",
    "    pa.append(t1)\n",
    "    t1 = t1 + r\n",
    "print(f\"O primeiro termo informado é: {pa[0]}\")\n",
    "print(f\"A razão da PA é: {r}\")\n",
    "print(f\"A PA é: {pa}\")"
   ]
  },
  {
   "cell_type": "markdown",
   "id": "41f417b3",
   "metadata": {},
   "source": [
    "52. Dizer se é um número primo"
   ]
  },
  {
   "cell_type": "code",
   "execution_count": 1,
   "id": "ab3f4452",
   "metadata": {},
   "outputs": [
    {
     "name": "stdout",
     "output_type": "stream",
     "text": [
      "55 é um número primo? False\n"
     ]
    }
   ],
   "source": [
    "from math import sqrt\n",
    "\n",
    "def primo():\n",
    "  if num == 2 or num == 3:\n",
    "    return True\n",
    "  elif num <= 1 or num % 2 == 0 or num % 3 == 0:\n",
    "    return False\n",
    "\n",
    "  limit = int(sqrt(num))\n",
    "  for i in range(5, limit + 1, 2 ):\n",
    "    if num % i == 0:\n",
    "      return False\n",
    "  return True\n",
    "\n",
    "num = int(input(\"Informe um número inteiro: \"))\n",
    "print(f\"{num} é um número primo? {primo()}\")"
   ]
  },
  {
   "cell_type": "markdown",
   "id": "b3374d0e",
   "metadata": {},
   "source": [
    "53. Verificar palindromos"
   ]
  },
  {
   "cell_type": "code",
   "execution_count": 6,
   "id": "1255fdc8",
   "metadata": {},
   "outputs": [
    {
     "name": "stdout",
     "output_type": "stream",
     "text": [
      "agramaéamarga é um palíndromo!\n"
     ]
    }
   ],
   "source": [
    "frase_normal = []\n",
    "\n",
    "frase = input(\"Informe uma frase: \")\n",
    "frase = frase.replace(\" \", \"\")\n",
    "\n",
    "for i in range(0, len(frase)):\n",
    "      letra = frase[i]\n",
    "      frase_normal.append(letra)\n",
    "frase_inversa = frase_normal[::-1]\n",
    "\n",
    "if frase_normal == frase_inversa:\n",
    "    print(f\"{frase} é um palíndromo!\")\n",
    "else:\n",
    "    print(f\"{frase} não é um palíndromo!\")\n"
   ]
  },
  {
   "cell_type": "markdown",
   "id": "ee7a261b",
   "metadata": {},
   "source": [
    "54. Verificar a maior idade de várias pessoas"
   ]
  },
  {
   "cell_type": "code",
   "execution_count": 107,
   "id": "c924d3ab",
   "metadata": {},
   "outputs": [
    {
     "name": "stdout",
     "output_type": "stream",
     "text": [
      "A 1ª pessoa tem 25 anos\n",
      "A 2ª pessoa tem 25 anos\n",
      "A 3ª pessoa tem 25 anos\n",
      "A 4ª pessoa tem 25 anos\n",
      "A 5ª pessoa tem 25 anos\n",
      "A 6ª pessoa tem 25 anos\n",
      "A 7ª pessoa tem 25 anos\n",
      "7 pessoas são maior de idade e 0 são menor de idade\n"
     ]
    }
   ],
   "source": [
    "import datetime #Importação da biblioteca\n",
    "pessoa = []\n",
    "maior_idade = 0\n",
    "menor_idade = 0\n",
    "\n",
    "for i in range(0, 7):\n",
    "    ano_nasc = int(input(f\"Informe o ano de nascimento da {i}ª pessoa: \"))\n",
    "    ano_atual = datetime.datetime.now().year #Obtendo a data atual, e selecionando apenas o ano dela\n",
    "    idade = ano_atual - ano_nasc\n",
    "    pessoa.append(idade)\n",
    "    if pessoa[i] >= 18:\n",
    "        maior_idade += 1\n",
    "    else:\n",
    "        menor_idade += 1\n",
    "\n",
    "for j in range(len(pessoa)):\n",
    "    print(f\"A {j + 1}ª pessoa tem {pessoa[j]} anos\")\n",
    "print(f\"{maior_idade} pessoas são maior de idade e {menor_idade} são menor de idade\")"
   ]
  },
  {
   "cell_type": "markdown",
   "id": "8868ec21",
   "metadata": {},
   "source": [
    "55. Maior e menor peso"
   ]
  },
  {
   "cell_type": "code",
   "execution_count": 5,
   "id": "35265a30",
   "metadata": {},
   "outputs": [
    {
     "name": "stdout",
     "output_type": "stream",
     "text": [
      "O maior peso informado foi 55 Kg\n",
      "O menor peso informado foi 15 Kg\n"
     ]
    }
   ],
   "source": [
    "pessoas = []\n",
    "\n",
    "for i in range(0, 5):\n",
    "    peso = int(input(f\"Informe o pesso da {i + 1}ª pessoa: \"))\n",
    "    pessoas.append(peso)\n",
    "print(f\"O maior peso informado foi {max(pessoas)} Kg\")\n",
    "print(f\"O menor peso informado foi {min(pessoas)} Kg\")"
   ]
  },
  {
   "cell_type": "markdown",
   "id": "3d801f46",
   "metadata": {},
   "source": [
    "56. Ler dados do usuário e exibição criteriosa"
   ]
  },
  {
   "cell_type": "code",
   "execution_count": null,
   "id": "4c0b62ea",
   "metadata": {},
   "outputs": [
    {
     "name": "stdout",
     "output_type": "stream",
     "text": [
      "\n",
      "A média da idade do grupo é de 18.5 anos\n",
      "O homem mais velho é luan e ele tem 23 anos\n",
      "2 mulheres possuem menos que 20 anos\n"
     ]
    }
   ],
   "source": [
    "homem_mais_velho = \"\"\n",
    "idade_mais_alta = -1\n",
    "m_jovens = 0\n",
    "idade_total = 0\n",
    "\n",
    "for i in range(0, 4):\n",
    "  nome = input(\"Informe o nome da pessoa: \")\n",
    "  idade = int(input(\"Informe a idade da pessoa: \"))\n",
    "  sexo = input(\"Informe M para masculino e F para feminino: \").upper()\n",
    "  idade_total = idade_total + idade\n",
    "  \n",
    "  if sexo == \"M\" and idade > idade_mais_alta:\n",
    "    idade_mais_alta = idade\n",
    "    homem_mais_velho = nome\n",
    "  elif sexo == \"F\" and idade < 20:\n",
    "    m_jovens += 1\n",
    "    \n",
    "media = idade_total / 4\n",
    "\n",
    "print(f\"\\nA média da idade do grupo é de {media} anos\")\n",
    "print(f\"O homem mais velho é {homem_mais_velho} e ele tem {idade_mais_alta} anos\")\n",
    "print(f\"{m_jovens} mulheres possuem menos que 20 anos\")\n"
   ]
  }
 ],
 "metadata": {
  "kernelspec": {
   "display_name": ".venv",
   "language": "python",
   "name": "python3"
  },
  "language_info": {
   "codemirror_mode": {
    "name": "ipython",
    "version": 3
   },
   "file_extension": ".py",
   "mimetype": "text/x-python",
   "name": "python",
   "nbconvert_exporter": "python",
   "pygments_lexer": "ipython3",
   "version": "3.13.3"
  }
 },
 "nbformat": 4,
 "nbformat_minor": 5
}

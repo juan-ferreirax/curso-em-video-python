{
 "cells": [
  {
   "cell_type": "markdown",
   "id": "52958ff5",
   "metadata": {},
   "source": [
    "57. Aceitar sexo M e F"
   ]
  },
  {
   "cell_type": "code",
   "execution_count": null,
   "id": "d2cc862d",
   "metadata": {},
   "outputs": [
    {
     "name": "stdout",
     "output_type": "stream",
     "text": [
      "O sexo da pessoa é: M\n"
     ]
    }
   ],
   "source": [
    "\n",
    "\n",
    "while True:\n",
    "    sexo = input(\"Informe o sexo da pessoa: \").strip().upper()\n",
    "    if sexo != \"M\" and sexo != \"F\":\n",
    "        print(\"Informe um sexo válido!\\n\", flush=True)\n",
    "    else:\n",
    "        break\n",
    "\n",
    "print(f\"O sexo da pessoa é: {sexo}\", flush=True)"
   ]
  },
  {
   "cell_type": "markdown",
   "id": "5a9a0145",
   "metadata": {},
   "source": [
    "58. Adivinhar números v2.0"
   ]
  },
  {
   "cell_type": "code",
   "execution_count": null,
   "id": "c06b4d27",
   "metadata": {},
   "outputs": [
    {
     "name": "stdout",
     "output_type": "stream",
     "text": [
      "Parabéns, você acertou!\n",
      "Foram necessárias 4 tentativas!\n"
     ]
    }
   ],
   "source": [
    "import random\n",
    "\n",
    "pcnum = random.randint(0,10)\n",
    "usrnum = 0\n",
    "tentativas = 0\n",
    "\n",
    "while usrnum != pcnum:\n",
    "    usrnum = int(input(\"Digite um número de 0 a 10 que você acha que o PC 'pensou': \"))\n",
    "    \n",
    "    if usrnum == pcnum:\n",
    "        print(\"Parabéns, você acertou!\")\n",
    "        print(f\"Foram necessárias {tentativas} tentativas!\")\n",
    "    else:\n",
    "        tentativas += 1"
   ]
  },
  {
   "cell_type": "markdown",
   "id": "946f6f8f",
   "metadata": {},
   "source": [
    "59. Menu repetitivo para dois números"
   ]
  },
  {
   "cell_type": "code",
   "execution_count": 7,
   "id": "d8291dd5",
   "metadata": {},
   "outputs": [
    {
     "name": "stdout",
     "output_type": "stream",
     "text": [
      "[1] Somar\n",
      "[2] Multiplicar\n",
      "[3] Maior\n",
      "[4] Novos números\n",
      "[5] Para fechar o programa\n",
      "5 + 6 = 11\n",
      "[1] Somar\n",
      "[2] Multiplicar\n",
      "[3] Maior\n",
      "[4] Novos números\n",
      "[5] Para fechar o programa\n",
      "Programa finalizado com sucesso!\n"
     ]
    }
   ],
   "source": [
    "num1 = int(input(\"Informe um número: \"))\n",
    "num2 = int(input(\"Informe um segundo número: \"))\n",
    "\n",
    "while True:\n",
    "    print(\"[1] Somar\")\n",
    "    print(\"[2] Multiplicar\")\n",
    "    print(\"[3] Maior\")\n",
    "    print(\"[4] Novos números\")\n",
    "    print(\"[5] Para fechar o programa\")\n",
    "\n",
    "    op = int(input(\"\\nDigite uma opção: \"))\n",
    "    match op:\n",
    "\n",
    "        case 1:\n",
    "            print(f\"{num1} + {num2} = {num1 + num2}\", flush=True)\n",
    "\n",
    "        case 2:\n",
    "            print(f\"{num1} * {num2} = {num1 * num2}\", flush=True)\n",
    "\n",
    "        case 3:\n",
    "            if num1 > num2:\n",
    "                print(f\"O maior número informado é {num1}\", flush=True)\n",
    "            elif num2 > num1:\n",
    "                print(f\"O maior número informado é {num1}\", flush=True)\n",
    "            else:\n",
    "                print(\"São iguais!\", flush=True)\n",
    "\n",
    "        case 4:\n",
    "            num1 = int(input(\"Informe um número: \"))\n",
    "            num2 = int(input(\"Informe um segundo número: \"))\n",
    "\n",
    "        case 5:\n",
    "            print(\"Programa finalizado com sucesso!\", flush=True)\n",
    "            break\n",
    "\n",
    "        case _:\n",
    "            print(\"Opção inválida! Informe outra opção:\\n\", flush=True)"
   ]
  },
  {
   "cell_type": "markdown",
   "id": "e9ba7bcf",
   "metadata": {},
   "source": [
    "60. Fatorial"
   ]
  },
  {
   "cell_type": "code",
   "execution_count": 13,
   "id": "9484a113",
   "metadata": {},
   "outputs": [
    {
     "name": "stdout",
     "output_type": "stream",
     "text": [
      "O fatorial de 6 é 720\n"
     ]
    }
   ],
   "source": [
    "num = int(input(\"Informe um número inteiro: \"))\n",
    "fatorial = 1\n",
    "count = num\n",
    "\n",
    "while count > 1:\n",
    "    fatorial *= count\n",
    "    count -= 1\n",
    "\n",
    "print(f\"O fatorial de {num} é {fatorial}\")"
   ]
  },
  {
   "cell_type": "markdown",
   "id": "a67215e1",
   "metadata": {},
   "source": [
    "61 e 62. Progreção Aritimética com While e pergunta para o usuário"
   ]
  },
  {
   "cell_type": "code",
   "execution_count": null,
   "id": "7635b0bc",
   "metadata": {},
   "outputs": [
    {
     "name": "stdout",
     "output_type": "stream",
     "text": [
      "O primeiro termo informado é: 2\n",
      "A razão da PA é: 2\n",
      "A PA é: [2, 4, 6, 8, 10, 12, 14, 16, 18, 20]\n",
      "\n",
      "Programa finalizado com sucesso!\n"
     ]
    }
   ],
   "source": [
    "while True:\n",
    "\n",
    "    pa = []\n",
    "    i = 0\n",
    "    t1 = int(input(\"Informe o primeiro termo da PA: \"))\n",
    "    r = int(input(\"Informe a razão da PA: \"))\n",
    "\n",
    "    while i < 10:\n",
    "        pa.append(t1)\n",
    "        t1 = t1 + r\n",
    "        i += 1\n",
    "\n",
    "    print(f\"O primeiro termo informado é: {pa[0]}\", flush = True)\n",
    "    print(f\"A razão da PA é: {r}\", flush = True)\n",
    "    print(f\"A PA é: {pa}\\n\", flush=True)\n",
    "\n",
    "    op = input((\"Digite '0 termos' para fechar o programa ou tecle ENTER para continuar...\"))\n",
    "    if op == '0 termos':\n",
    "        print(\"Programa finalizado com sucesso!\")\n",
    "        break"
   ]
  },
  {
   "cell_type": "markdown",
   "id": "7898e1fc",
   "metadata": {},
   "source": [
    "63. Fibonacci"
   ]
  },
  {
   "cell_type": "code",
   "execution_count": 14,
   "id": "38d14804",
   "metadata": {},
   "outputs": [
    {
     "name": "stdout",
     "output_type": "stream",
     "text": [
      "A sequência de fibonacci de 12 é [0, 1, 1, 2, 3, 5, 8, 13, 21, 34, 55, 89]\n"
     ]
    }
   ],
   "source": [
    "fibonacci = []\n",
    "num = int(input(\"Informe o n-ésimo termo de fibonacci: \"))\n",
    "n1 = 0\n",
    "n2 = 1\n",
    "\n",
    "if num == 1:\n",
    "    fibonacci.append(0)\n",
    "elif num == 2:\n",
    "    fibonacci.append(1)\n",
    "else:\n",
    "    i = 2\n",
    "    fibonacci.append(0)\n",
    "    fibonacci.append(1)\n",
    "    while i < num:\n",
    "        f = n1 + n2\n",
    "        fibonacci.append(f)\n",
    "        n1 = n2\n",
    "        n2 = f\n",
    "        i += 1\n",
    "print(f\"A sequência de fibonacci de {num} é {fibonacci}\")\n",
    "\n",
    "\n",
    "\n",
    "\n",
    "\n"
   ]
  },
  {
   "cell_type": "markdown",
   "id": "3f47406d",
   "metadata": {},
   "source": [
    "64. Contador e soma de inteiros"
   ]
  },
  {
   "cell_type": "code",
   "execution_count": 2,
   "id": "3116a5bd",
   "metadata": {},
   "outputs": [
    {
     "name": "stdout",
     "output_type": "stream",
     "text": [
      "Foram digitados 10 números e a soma deles é 50\n"
     ]
    }
   ],
   "source": [
    "count = 0\n",
    "sum = 0\n",
    "while True: \n",
    "    num = int(input(\"Informe um inteiro: \"))\n",
    "    if num == 999:\n",
    "        break\n",
    "    else:\n",
    "        sum = sum + num\n",
    "        count += 1\n",
    "print(f\"Foram digitados {count} números e a soma deles é {sum}\")"
   ]
  },
  {
   "cell_type": "markdown",
   "id": "4dff371c",
   "metadata": {},
   "source": [
    "65. Média, maior e menor inteiro lido interativo"
   ]
  },
  {
   "cell_type": "code",
   "execution_count": 1,
   "id": "75f8d75a",
   "metadata": {},
   "outputs": [
    {
     "name": "stdout",
     "output_type": "stream",
     "text": [
      "O maior número digitado foi 7\n",
      "O menor número digitado foi 5\n",
      "A média entre eles é de 6.0\n"
     ]
    }
   ],
   "source": [
    "biggest_num = 0\n",
    "smallest_num = 0\n",
    "sum = 0\n",
    "count = 0\n",
    "\n",
    "while \"S\":\n",
    "    num = int(input(\"Informe um número inteiro: \"))\n",
    "    if count == 0:\n",
    "        biggest_num = num\n",
    "        smallest_num = num\n",
    "    else:\n",
    "        if num >= biggest_num:\n",
    "            biggest_num = num\n",
    "        else:\n",
    "            smallest_num = num\n",
    "    count += 1\n",
    "    sum = sum + num \n",
    "    op = input(\"Digite S para inserir mais valores ou N para encerrar: \").upper()\n",
    "    if op == \"S\":\n",
    "        pass\n",
    "    elif op == \"N\":\n",
    "        break\n",
    "media = sum / count\n",
    "\n",
    "print(f\"O maior número digitado foi {biggest_num}\")\n",
    "print(f\"O menor número digitado foi {smallest_num}\")\n",
    "print(f\"A média entre eles é de {media}\")\n",
    "    "
   ]
  }
 ],
 "metadata": {
  "kernelspec": {
   "display_name": ".venv",
   "language": "python",
   "name": "python3"
  },
  "language_info": {
   "codemirror_mode": {
    "name": "ipython",
    "version": 3
   },
   "file_extension": ".py",
   "mimetype": "text/x-python",
   "name": "python",
   "nbconvert_exporter": "python",
   "pygments_lexer": "ipython3",
   "version": "3.12.3"
  }
 },
 "nbformat": 4,
 "nbformat_minor": 5
}

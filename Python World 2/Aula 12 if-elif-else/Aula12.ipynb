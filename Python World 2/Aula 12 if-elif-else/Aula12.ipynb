{
 "cells": [
  {
   "cell_type": "markdown",
   "id": "2928f8ba",
   "metadata": {},
   "source": [
    "Condições encadeadas que criam desvios no fluxo de execução do código:"
   ]
  },
  {
   "cell_type": "code",
   "execution_count": null,
   "id": "668f0ce3",
   "metadata": {},
   "outputs": [
    {
     "name": "stdout",
     "output_type": "stream",
     "text": [
      "nome massa d+\n"
     ]
    }
   ],
   "source": [
    "name = str(input(\"Informe qual o seu nome: \"))\n",
    "if name == \"João\":\n",
    "\tprint(\"Nome bonito ein!\")\n",
    "elif name == \"Lucas\":\n",
    "\tprint(\"top!\")\n",
    "elif name in 'lucas, claúdio, jefferson, juan, diego': #lista simples em python, in para dizer se está nela\n",
    "\tprint('nome massa d+')\n",
    "else:\n",
    "\tprint(\"normal\")"
   ]
  },
  {
   "cell_type": "markdown",
   "id": "902d03c0",
   "metadata": {},
   "source": [
    "36.Aprovar empréstimo bancário"
   ]
  },
  {
   "cell_type": "code",
   "execution_count": 18,
   "id": "728641bb",
   "metadata": {},
   "outputs": [
    {
     "name": "stdout",
     "output_type": "stream",
     "text": [
      "Analisando...\n",
      "Empréstimo negado! O valor do empréstimo excede 30% do valor do salário!\n"
     ]
    }
   ],
   "source": [
    "from time import sleep # import da função sleep da biblioteca time\n",
    "\n",
    "valorCasa = float(input(\"Informe o valor da casa: \"))\n",
    "salarioComprador = float(input(\"Informe o salário do comprador: \"))\n",
    "anos = int(input(\"Em quantos anos a casa será quitada? \"))\n",
    "tempo = anos * 12\n",
    "\n",
    "prestacaoMensal = valorCasa / tempo\n",
    "print(\"Analisando...\")\n",
    "sleep(3) #faz o código esperar x segundos para continuar a execução\n",
    "\n",
    "if prestacaoMensal > salarioComprador * 0.3:\n",
    "    print(\"Empréstimo negado! O valor do empréstimo excede 30% do valor do salário!\")\n",
    "elif prestacaoMensal <= salarioComprador * 0.3:\n",
    "    print(\"Emprestimo concedido!\")"
   ]
  },
  {
   "cell_type": "markdown",
   "id": "d6acc1c2",
   "metadata": {},
   "source": [
    "37. Conversão de bases numéricas\n",
    "\n",
    "    Aprendizados:\n",
    "    1. Quando tem mais de um argumento no print separado por , ele da espaço entre eles, pra evitar isso usa concatenação \"+\"\n",
    "\n",
    "    2. \\ para quebrar a escrita do código do print\n",
    "\n",
    "    3. estrutura match-case para simular o switch-case de outras linguagens, case _: é opção padrão, o valor precisa ser string e não um int por exemplo\n",
    "\n",
    "    4. f antes da string no print formata ela (formated string), isso possibilita inserção direta das variáveis na string, quase igual ao .format()\n",
    "\n",
    "    5. [x:] onde x é um inteiro e [x:] é um fatiamento(slice), pega uma string e exibe com base na regra"
   ]
  },
  {
   "cell_type": "code",
   "execution_count": null,
   "id": "6b027d1c",
   "metadata": {},
   "outputs": [
    {
     "name": "stdout",
     "output_type": "stream",
     "text": [
      "------------------------------------------\n",
      "Programa para Conversão de Bases Numéricas\n",
      "------------------------------------------\n",
      "\n",
      "Digite:\n",
      "[1] para binário\n",
      "[2] para octal\n",
      "[3] para hexadecimal\n",
      "O número 1000 em binário é 1111101000\n"
     ]
    }
   ],
   "source": [
    "#concatenação de strings\n",
    "print(\"-\" * 42 + \"\\nPrograma para Conversão de Bases Numéricas\\n\" + \"-\" * 42)\n",
    "\n",
    "print(\"\\nDigite:\\n\"\n",
    "\"[1] para binário\\n\" \\\n",
    "\"[2] para octal\\n\" \\\n",
    "\"[3] para hexadecimal\", flush = True)\n",
    "\n",
    "num = int(input(\"Informe um número inteiro: \"))\n",
    "op = input(\"Informe a opção desejada: \")\n",
    "\n",
    "match op: #Estrutura match-case que simula o conhecido switch-case, introduzida no Python 3.10\n",
    "    case \"1\":\n",
    "        print(f\"O número {num} em binário é {bin(num)[2:]}\")\n",
    "    case \"2\":\n",
    "        print(f\"O número {num} em octal é {oct(num)[2:]}\")\n",
    "    case \"3\":\n",
    "        print(f\"O número {num} em hexadecimal é {hex(num)[2:].upper()}\")\n",
    "    case _: #Caso padrão\n",
    "        print(\"\\nOpção inválida!\")"
   ]
  },
  {
   "cell_type": "markdown",
   "id": "06ccbda3",
   "metadata": {},
   "source": [
    "38. Comparação de inteiros"
   ]
  },
  {
   "cell_type": "code",
   "execution_count": null,
   "id": "4fc157ea",
   "metadata": {},
   "outputs": [
    {
     "name": "stdout",
     "output_type": "stream",
     "text": [
      "Os números são iguais\n"
     ]
    }
   ],
   "source": [
    "def compare():\n",
    "    if num1 > num2:\n",
    "        print(\"O primeiro é maior que o segundo!\")\n",
    "    elif num2 > num1:\n",
    "        print(\"O segundo é maior que o  primeiro!\")\n",
    "    else:\n",
    "        print(\"Os números são iguais!\")\n",
    "\n",
    "num1 = int(input(\"Informe o primeiro número: \"))\n",
    "num2 = int(input(\"Informe o segundo número: \"))\n",
    "\n",
    "compare()\n",
    "\n"
   ]
  },
  {
   "cell_type": "markdown",
   "id": "b571c12c",
   "metadata": {},
   "source": [
    "39. Leitura de datas e informes  \n",
    "\n",
    "    Aprendizados:\n",
    "    1. Uso da biblioteca datetime para manipulação de datas\n",
    "\n",
    "    2. Construção de um método de alta precisão para verificar maior idade(Não foi usado)\n",
    "\n",
    "    3. Uso de Split para passagem de parâmetro no método datetime.datetime(dd, mm, aaaa)"
   ]
  },
  {
   "cell_type": "code",
   "execution_count": 24,
   "id": "f87f60bb",
   "metadata": {},
   "outputs": [
    {
     "name": "stdout",
     "output_type": "stream",
     "text": [
      "Você não precisa se alistar no exército brasileiro!\n"
     ]
    }
   ],
   "source": [
    "import datetime #Importação da biblioteca\n",
    "\n",
    "ano_nasc = int(input(\"Informe o seu ano de nascimento: \"))\n",
    "ano_atual = datetime.datetime.now().year #Obtendo a data atual, e selecionando apenas o ano dela\n",
    "idade = ano_atual - ano_nasc\n",
    "sexo = input(\"Digite M para masculino e F para feminino: \")\n",
    "\n",
    "if sexo == \"M\":\n",
    "    if idade < 18:\n",
    "        print(\"Você ainda vai se alistar!\")\n",
    "        print(f\"Quem nasceu em {ano_nasc} tem {idade} em {ano_atual}\")\n",
    "        print(\"Faltam {} anos para você se alistar\".format(18 - idade))\n",
    "    elif ano_atual - ano_nasc == 18:\n",
    "        print(f\"Quem nasceu em {ano_nasc} tem {idade} em {ano_atual}\")\n",
    "        print(\"Já está na hora de se alistar!\")\n",
    "    else:\n",
    "        print(\"Já passou da hora de se alistar!\")\n",
    "        print(f\"Quem nasceu em {ano_nasc} tem {idade} em {ano_atual}\")\n",
    "        print(\"Já se passaram {} anos do seu período de alistamento!\".format(idade - 18))\n",
    "else:\n",
    "    print(\"Você não precisa se alistar no exército brasileiro!\")\n",
    "    \n",
    "#------------------------------------------------------------------------\n",
    "#Método de alta precisão\n",
    "#data_nasc = datetime.datetime(int(data[2]), int(data[1]), int(data[0]))\n",
    "# atual = datetime.datetime.now()\n",
    "# #print(data_nasc)\n",
    "# #print(hoje)\n",
    "\n",
    "# maior_idade = (atual.year - data_nasc.year > 18) or (atual.year - data_nasc.year == 18) and (atual.month, atual.day) >= (data_nasc.month, data_nasc.day)\n",
    "# print(maior_idade)\n",
    "\n",
    "#-----------------------------------------------------------------------------\n",
    "#Método por aproximação\n",
    "# data = input(\"Informe a sua data de nacimento no formato dd/mm/aaaa: \")\n",
    "# data = data.split(\"/\")\n",
    "\n",
    "# data_nasc = datetime.datetime(int(data[2]), int(data[1]), int(data[0]))\n",
    "\n",
    "# dias_vividos = datetime.datetime.now() - data_nasc\n",
    "# idade = dias_vividos.days // 365\n",
    "# print(idade)\n",
    "\n",
    "# print(data)\n",
    "# print(data[0])\n",
    "\n",
    "#------------------------------------------------------------------------------\n",
    "#Rascunho\n",
    "#data_nasc = datetime.datetime()\n",
    "\n",
    "#agora = datetime.datetime.now()\n",
    "# print(agora.strftime(\"%d/%m/%Y\"))\n",
    "# ano = agora.year\n",
    "# print(ano)"
   ]
  },
  {
   "cell_type": "markdown",
   "id": "6ba0e022",
   "metadata": {},
   "source": [
    "40. Média de Notas"
   ]
  },
  {
   "cell_type": "code",
   "execution_count": null,
   "id": "986940d6",
   "metadata": {},
   "outputs": [
    {
     "name": "stdout",
     "output_type": "stream",
     "text": [
      "Aprovado\n"
     ]
    }
   ],
   "source": [
    "#Calculo de média simples\n",
    "nota1 = float(input(\"Informe a primeira nota: \"))\n",
    "nota2 = float(input(\"Informe a segunda nota: \"))\n",
    "\n",
    "if ((nota1 + nota2) / 2) < 5:\n",
    "    print(\"Reprovado\")\n",
    "elif ((nota1 + nota2) / 2) > 5 and ((nota1 + nota2) / 2) < 7:\n",
    "    print(\"Recuperação\")\n",
    "else:\n",
    "    print(\"Aprovado\")"
   ]
  },
  {
   "cell_type": "markdown",
   "id": "30a7a3d1",
   "metadata": {},
   "source": [
    "41. Categoria de acordo com o ano"
   ]
  },
  {
   "cell_type": "code",
   "execution_count": 30,
   "id": "350966b4",
   "metadata": {},
   "outputs": [
    {
     "name": "stdout",
     "output_type": "stream",
     "text": [
      "O atleta tem 20 anos\n",
      "Classificação: Sênior\n"
     ]
    }
   ],
   "source": [
    "import datetime #biblioteca para tratamento de datas\n",
    "\n",
    "ano_nasc = int(input(\"Informe o seu ano de nascimento: \"))\n",
    "ano_atual = datetime.datetime.now().year\n",
    "idade = ano_atual - ano_nasc\n",
    "\n",
    "if idade <= 9:\n",
    "    print(f\"O atleta tem {idade} anos\")\n",
    "    print(\"Classificação: Mirim\")\n",
    "elif idade >= 10 and idade <= 14:\n",
    "    print(f\"O atleta tem {idade} anos\")\n",
    "    print(\"Classificação: Infantil\")\n",
    "elif idade >= 15 and idade <= 19:\n",
    "    print(f\"O atleta tem {idade} anos\")\n",
    "    print(\"Classificação: Junior\")\n",
    "elif idade == 20:\n",
    "    print(f\"O atleta tem {idade} anos\")\n",
    "    print(\"Classificação: Sênior\")\n",
    "else:\n",
    "    print(f\"O atleta tem {idade} anos\")\n",
    "    print(\"Classificação: Master\")\n"
   ]
  },
  {
   "cell_type": "markdown",
   "id": "9714d218",
   "metadata": {},
   "source": [
    "42. Aperfeiçoamento do exercício 35 dos triângulos  \n",
    "    \n",
    "    Aprendizados:\n",
    "    1. Função all( ) retorna True se todas as condições forem verdadeiras, pode ser usado com listas, tuplas por exemplo\n",
    "\n",
    "    2. len({x, y, z}) de um conjunto {x, y, z} retorna a quantidade de elementos diferentes do conjunto"
   ]
  },
  {
   "cell_type": "code",
   "execution_count": 37,
   "id": "bc05b926",
   "metadata": {},
   "outputs": [
    {
     "name": "stdout",
     "output_type": "stream",
     "text": [
      "\n",
      "É possível formar um triângulo isósceles com essas retas!\n"
     ]
    }
   ],
   "source": [
    "\n",
    "A = float(input(\"Digite o tamanho da reta A: \"))\n",
    "B = float(input(\"Digite o tamanho da reta B: \"))\n",
    "C = float(input(\"Digite o tamanho da reta C: \"))\n",
    "\n",
    "if all([A + B > C, A + C > B, B + C > A]):\n",
    "    print(\"\\nÉ possível formar um triângulo \", end = \"\")\n",
    "    if len({A, B, C}) == 1:\n",
    "        print(\"equilátero\", end = \"\")\n",
    "    elif len({A, B, C}) == 2:\n",
    "        print(\"isósceles\", end = \"\")\n",
    "    else:\n",
    "        print(\"escaleno\", end = \"\")\n",
    "    print(\" com essas retas!\")\n",
    "else:\n",
    "    print(\"\\nNão é possível formar um triângulo com essas retas!\")"
   ]
  },
  {
   "cell_type": "markdown",
   "id": "c4046c17",
   "metadata": {},
   "source": [
    "43. Calculo de IMC"
   ]
  },
  {
   "cell_type": "code",
   "execution_count": 39,
   "id": "51e6ceea",
   "metadata": {},
   "outputs": [
    {
     "name": "stdout",
     "output_type": "stream",
     "text": [
      "O seu IMC é 37.04 e você está obeso!\n"
     ]
    }
   ],
   "source": [
    "h = float(input(\"Informe a sua altura em m: \"))\n",
    "peso = float(input(\"Informe o seu peso em kg: \"))\n",
    "\n",
    "imc = peso / (h * h)\n",
    "\n",
    "if imc < 18.5:\n",
    "    print(f\"O seu IMC é {imc:.2f} e você está abaixo do peso!\")\n",
    "elif imc >= 18.5 and imc <= 25:\n",
    "    print(f\"O seu IMC é {imc:.2f} e você está com o peso ideal!\")\n",
    "elif imc >= 25 and imc <= 30:\n",
    "    print(f\"O seu IMC é {imc:.2f} e você está com sobrepeso!\")\n",
    "elif imc >= 30 and imc <= 40:\n",
    "    print(f\"O seu IMC é {imc:.2f} e você está obeso!\")\n",
    "else:\n",
    "    print(f\"O seu IMC é {imc:.2f} e você está com obesidade mórbida\")\n",
    "\n"
   ]
  },
  {
   "cell_type": "markdown",
   "id": "f5e895f3",
   "metadata": {},
   "source": [
    "44. Preço e pagamento de produto"
   ]
  },
  {
   "cell_type": "code",
   "execution_count": 4,
   "id": "234ad4ab",
   "metadata": {},
   "outputs": [
    {
     "name": "stdout",
     "output_type": "stream",
     "text": [
      "[1] Pagamento no dinheiro ou cheque\n",
      "[2] Pagamento no cartão de crédito\n",
      "\n",
      "Opção inválida! Tente novamente!\n"
     ]
    }
   ],
   "source": [
    "valor = float(input(\"Informe o valor do produto: \"))\n",
    "\n",
    "print(\"[1] Pagamento no dinheiro ou cheque\\n\" \\\n",
    "      \"[2] Pagamento no cartão de crédito\", flush = True)\n",
    "\n",
    "op = input(\"Informe a forma de pagamento: \")\n",
    "if op == 1 or op == 2:\n",
    "    match op:\n",
    "        case \"1\":\n",
    "            print(\"\\nVocê escolheu o pagamento no dinheiro/cheque e terá um desconto de 10%\")\n",
    "            print(f\"O valor do produto é R$ {valor} e com o desconto ficará R$ {valor * 0.9}\")\n",
    "        case \"2\":\n",
    "            print(\"\\nVocê escolheu o pagamento no cartão de crédito...\")\n",
    "            print(\"[1] À vista\\n\" \\\n",
    "                \"[2] Parcelado\", flush = True)\n",
    "\n",
    "    pag = input(\"Você deseja pagar à vista ou parcelado?\")\n",
    "    if pag == \"1\":\n",
    "        print(\"\\nVocê escolheu o pagamento a vista e terá 5% de desconto!\")\n",
    "        print(f\"O valor do produto é R${valor} e com o desconto ficará R${valor * 0.95}\")\n",
    "    elif pag == \"2\":\n",
    "        print(\"\\nVocê escolheu o pagamento parcelado...\")\n",
    "        num_parcela = int(input(\"Em quantas vezes de seja parcelar? \"))\n",
    "\n",
    "        if num_parcela <= 2:\n",
    "            print(f\"O produto será parcelado em {num_parcela} vezes\")\n",
    "            print(f\"São {num_parcela} parcelas de R${valor / num_parcela:.2f} totalizando R${valor:.2f}\")\n",
    "        else:\n",
    "            print(f\"O produto será parcelado em {num_parcela} vezes e sofrerá um acrécimo\" \\\n",
    "                    \"de 20% de juros\")\n",
    "            print(f\"São {num_parcela} parcelas de R${valor / num_parcela:.2f} + 20% totalizando R${valor * 1.2:.2f}\")\n",
    "else:\n",
    "    print(\"\\nOpção inválida! Tente novamente!\")\n"
   ]
  },
  {
   "cell_type": "markdown",
   "id": "0d6fdd54",
   "metadata": {},
   "source": [
    "45. Jokenpô"
   ]
  },
  {
   "cell_type": "code",
   "execution_count": 19,
   "id": "2390eeaa",
   "metadata": {},
   "outputs": [
    {
     "name": "stdout",
     "output_type": "stream",
     "text": [
      "Digite: \n",
      "[1] Pedra\n",
      "[2] Papel\n",
      "[3] Tesoura\n",
      "\n",
      "O PC escolheu Papel e você escolheu Tesoura\n",
      "VOCÊ VENCEU!\n"
     ]
    }
   ],
   "source": [
    "import random\n",
    "\n",
    "print(\"Digite: \\n\" \\\n",
    "      \"[1] Pedra\\n\" \\\n",
    "      \"[2] Papel\\n\" \\\n",
    "      \"[3] Tesoura\\n\", flush = True)\n",
    "user = int(input(\"Escolha uma opção para jogar: \"))\n",
    "pc = random.choice([1, 2, 3])\n",
    "\n",
    "match pc:\n",
    "    case 1:\n",
    "        if user == 1:\n",
    "            print(\"O PC escolheu Pedra e você escolheu Pedra\")\n",
    "            print(\"EMPATE!\")\n",
    "        elif user == 2:\n",
    "            print(\"O PC escolheu Pedra e você escolheu Papel\")\n",
    "            print(\"VOCÊ VENCEU!\")\n",
    "        else:\n",
    "            print(\"O PC escolheu Pedra e você escolheu Tesoura\")\n",
    "            print(\"VOCÊ PERDEU!\")\n",
    "    case 2:\n",
    "        if user == 1:\n",
    "            print(\"O PC escolheu Papel e você escolheu Pedra\")\n",
    "            print(\"VOCÊ PERDEU!\")\n",
    "        elif user == 2:\n",
    "            print(\"O PC escolheu Papel e você escolheu Papel\")\n",
    "            print(\"EMPATE!\")\n",
    "        else:\n",
    "            print(\"O PC escolheu Papel e você escolheu Tesoura\")\n",
    "            print(\"VOCÊ VENCEU!\")\n",
    "    case 3:\n",
    "        if user == 1:\n",
    "            print(\"O PC escolheu Tesoura e você escolheu Pedra\")\n",
    "            print(\"VOCÊ VENCEU!\")\n",
    "        elif user == 2:\n",
    "            print(\"O PC escolheu Tesoura e você escolheu Papel\")\n",
    "            print(\"VOCÊ PERDEU!\")\n",
    "        else:\n",
    "            print(\"O PC escolheu Tesoura e você escolheu Tesoura\")\n",
    "            print(\"EMPATE!\")"
   ]
  }
 ],
 "metadata": {
  "kernelspec": {
   "display_name": ".venv",
   "language": "python",
   "name": "python3"
  },
  "language_info": {
   "codemirror_mode": {
    "name": "ipython",
    "version": 3
   },
   "file_extension": ".py",
   "mimetype": "text/x-python",
   "name": "python",
   "nbconvert_exporter": "python",
   "pygments_lexer": "ipython3",
   "version": "3.13.3"
  }
 },
 "nbformat": 4,
 "nbformat_minor": 5
}

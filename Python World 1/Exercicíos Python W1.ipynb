{
 "cells": [
  {
   "cell_type": "markdown",
   "id": "578aa8e3",
   "metadata": {},
   "source": [
    "1. Olá Mundo"
   ]
  },
  {
   "cell_type": "code",
   "execution_count": 1,
   "id": "6e883af1",
   "metadata": {},
   "outputs": [
    {
     "name": "stdout",
     "output_type": "stream",
     "text": [
      "Hello world\n"
     ]
    }
   ],
   "source": [
    "print('Hello world')"
   ]
  },
  {
   "cell_type": "markdown",
   "id": "a2245511",
   "metadata": {},
   "source": [
    "2. Prazer em te conhecer"
   ]
  },
  {
   "cell_type": "code",
   "execution_count": null,
   "id": "949c78aa",
   "metadata": {},
   "outputs": [],
   "source": [
    "nome = input('Qual é o seu nome? ')\n",
    "print('Olá {}, é um prazer te conhecer!'.format(nome))"
   ]
  },
  {
   "cell_type": "markdown",
   "id": "25395854",
   "metadata": {},
   "source": [
    "3. Somando dois números"
   ]
  },
  {
   "cell_type": "code",
   "execution_count": null,
   "id": "b1609f48",
   "metadata": {},
   "outputs": [],
   "source": [
    "#tipos primitivos int, float, Bool e str\n",
    "num1 = int(input('Infome o primeiro número: '))\n",
    "num2 = int(input('Informe o segundo número: '))\n",
    "\n",
    "sum = num1 + num2\n",
    "print(type(sum))\n",
    "\n",
    "print('A soma desses dois números é: ', sum)"
   ]
  },
  {
   "cell_type": "markdown",
   "id": "efa5a622",
   "metadata": {},
   "source": [
    "4. Dissecando uma Variável"
   ]
  },
  {
   "cell_type": "code",
   "execution_count": null,
   "id": "c029c825",
   "metadata": {},
   "outputs": [],
   "source": [
    "n = input('Digite algo: ')\n",
    "print('O tipo  primitivo desse valor é: ',type(n))\n",
    "print('Pode ser convertido para decimal?', n.isdecimal())\n",
    "print('É um valor alfabético?', n.isalpha())\n",
    "print('Pode ser convertido para numerico', n.isnumeric())\n",
    "print('É um valor alfanumerico?', n.isalnum())\n",
    "print('É um valor de caixa baixa?', n.islower())\n",
    "print('É um valor de caixa alta?', n.isupper())"
   ]
  },
  {
   "cell_type": "markdown",
   "id": "b96e7e8f",
   "metadata": {},
   "source": [
    "5. Antecessor e Sucessor"
   ]
  },
  {
   "cell_type": "code",
   "execution_count": null,
   "id": "287dd540",
   "metadata": {},
   "outputs": [],
   "source": [
    "#005    que leia um inteiro e mostre o sucessor e antecessor\n",
    "n = int(input(\"Informe um número qualquer: \"))\n",
    "sus = n + 1\n",
    "ant = n - 1\n",
    "\n",
    "print(\"O sucessor do número informado é {} e o antecessor é {}.\".format(sus,ant))"
   ]
  },
  {
   "cell_type": "markdown",
   "id": "1eef4f56",
   "metadata": {},
   "source": [
    "6. Dobro, Triplo, Raiz Quadrada"
   ]
  },
  {
   "cell_type": "code",
   "execution_count": null,
   "id": "8d50c191",
   "metadata": {},
   "outputs": [],
   "source": [
    "#006    que leia um número e mostre seu dobro, triplo e raiz quadrada\n",
    "\n",
    "import math\n",
    "n = int(input(\"Informe um número: \"))\n",
    "\n",
    "dob = n * 2\n",
    "tri = n * 3\n",
    "#raizq = n ** (1/2)\n",
    "sqrt = math.sqrt(n)\n",
    "\n",
    "print(\"O dobro do número informado é {}, o triplo é {} e a raíz quadrada é {}.\".format(dob,tri,sqrt))"
   ]
  },
  {
   "cell_type": "markdown",
   "id": "ef5d6252",
   "metadata": {},
   "source": [
    "7. Média Aritmética"
   ]
  },
  {
   "cell_type": "code",
   "execution_count": null,
   "id": "e3bc5ae5",
   "metadata": {},
   "outputs": [],
   "source": [
    "#007    ler duas notas de aluno e calculas as médias\n",
    "\n",
    "n1 = float(input(\"Informe a primeira nota do aluno: \"))\n",
    "n2 = float(input(\"Informe a segunda nota do aluno: \"))\n",
    "\n",
    "media = (n1 + n2) / 2\n",
    "\n",
    "print(\"A média das notas desse aluno é de {}\".format(media))"
   ]
  },
  {
   "cell_type": "markdown",
   "id": "fa9e0568",
   "metadata": {},
   "source": [
    "8. Conversor de Medidas"
   ]
  },
  {
   "cell_type": "code",
   "execution_count": null,
   "id": "7912bd2f",
   "metadata": {},
   "outputs": [],
   "source": [
    "#008    leia um valor em metros e exiba convertido em centimetros e milimetros\n",
    "\n",
    "m = float(input(\"Informe uma medida em metros: \"))\n",
    "cm = m * 100\n",
    "mm = m * 1000\n",
    "\n",
    "print(\"A medida informada em metros corresponde a {} centímetros ou {} milímetros!\".format(cm,mm))"
   ]
  },
  {
   "cell_type": "markdown",
   "id": "7d077507",
   "metadata": {},
   "source": [
    "9. Tabuada"
   ]
  },
  {
   "cell_type": "code",
   "execution_count": null,
   "id": "d2cde239",
   "metadata": {},
   "outputs": [],
   "source": [
    "#009    leia um inteiro qualquer e mostre sua tabuada\n",
    "n = int(input(\"Informe um inteiro qualquer: \"))\n",
    "\n",
    "\n",
    "n0 = n * 0\n",
    "n1 = n * 1\n",
    "n2 = n * 2\n",
    "n3 = n * 3\n",
    "n4 = n * 4\n",
    "n5 = n * 5\n",
    "n6 = n * 6\n",
    "n7 = n * 7\n",
    "n8 = n * 8\n",
    "n9 = n * 9\n",
    "n10 = n * 10\n",
    "\n",
    "print(\"A tabuada do número {} é: \\n------------ \\n8 x 0 = {}\\n8 x 1 = {}\\n8 x 2 = {}\\n8 x 3 = {}\\n8 x 4 = {}\\n8 x 5 = {}\\n8 x 6 = {}\\n8 x 7 = {}\\n8 x 8 = {}\\n8 x 9 = {}\\n8 x 10 = {}\".format(n,n0,n1,n2,n3,n4,n5,n6,n7,n8,n9,n10))\n",
    "print(\"-\" * 12)"
   ]
  },
  {
   "cell_type": "markdown",
   "id": "081cf299",
   "metadata": {},
   "source": [
    "10. Conversor de Moedas"
   ]
  },
  {
   "cell_type": "code",
   "execution_count": null,
   "id": "f499f329",
   "metadata": {},
   "outputs": [],
   "source": [
    "#010    leia quanto dinheiro a pessoa tem e quantos dolares a pessoa pode comprar\n",
    "\n",
    "reais = float(input(\"Informe quantos reais você possui: \"))\n",
    "\n",
    "dol = 5.81\n",
    "euro = 6.00\n",
    "quantdol = reais / dol\n",
    "quanteuro = reais / euro\n",
    "\n",
    "print(\"Com {:.2f} reais é possível comprar {:.2f} dólares e {:.2f} euros.\".format(reais,quantdol,quanteuro))"
   ]
  },
  {
   "cell_type": "markdown",
   "id": "0710560f",
   "metadata": {},
   "source": [
    "11. Pintando Parede"
   ]
  },
  {
   "cell_type": "code",
   "execution_count": null,
   "id": "c90425d8",
   "metadata": {},
   "outputs": [],
   "source": [
    "#011    que leia a largura e a altura de uma parede em metros, calcule a sua área\n",
    "#       e a quantidade de tinta necessária para pintala sabendo que cada litro de tinta pinta uma area de 2m²\n",
    "\n",
    "lar = float(input(\"Informe a largura da parede em metros: \"))\n",
    "h = float(input(\"Informe a altura da parede em metros: \"))\n",
    "\n",
    "area = h * lar\n",
    "quantlitros = area / 2\n",
    "\n",
    "print(\"A sua parede tem dimensão {}x{}, totalizando {}M²\".format(lar,h,area))\n",
    "print(\"Serão necessários {:.1f}L de tinta para pintar essa parede \".format(quantlitros))"
   ]
  },
  {
   "cell_type": "markdown",
   "id": "3999ca51",
   "metadata": {},
   "source": [
    "12. Calculando Descontos"
   ]
  },
  {
   "cell_type": "code",
   "execution_count": null,
   "id": "28ad4d23",
   "metadata": {},
   "outputs": [],
   "source": [
    "#012    que leia o preço de um produto e mostre seu novo preço com 5% de desconto\n",
    "\n",
    "preco = float(input(\"Informe o valor do produto: \"))\n",
    "\n",
    "novopreco = preco - preco * 0.05\n",
    "\n",
    "print(\"O preço do produto com 5% de desconto é R${:.2f}\".format(novopreco))"
   ]
  },
  {
   "cell_type": "markdown",
   "id": "01760c0b",
   "metadata": {},
   "source": [
    "13. Reajuste Salarial"
   ]
  },
  {
   "cell_type": "code",
   "execution_count": null,
   "id": "db9f09fb",
   "metadata": {},
   "outputs": [],
   "source": [
    "#013    que leia o salario de um funcionario e mostre seu novo salario com 15% de aumento\n",
    "salario = float(input(\"Informe o salário atual do funcionário: \"))\n",
    "\n",
    "novosalario = salario + salario * 0.15\n",
    "\n",
    "print(\"O novo salário do funcionário com aumento de 15% de aumento é de R${:.2f}\".format(novosalario))"
   ]
  },
  {
   "cell_type": "markdown",
   "id": "7ca9821b",
   "metadata": {},
   "source": [
    "14. Conversor de Temperaturas"
   ]
  },
  {
   "cell_type": "code",
   "execution_count": null,
   "id": "1bda5f9d",
   "metadata": {},
   "outputs": [],
   "source": [
    "#014 Escreva um programa que converta uma temperatura digitando em graus Celsius e converta para graus Fahrenheit. 1,8 * C + 32\n",
    "\n",
    "C = float(input(\"Informe a temperatura em °C: \"))\n",
    "\n",
    "F = 1.8 * C + 32\n",
    "\n",
    "print(\"A temperatura informada corresponde a {}°F\".format(F))"
   ]
  },
  {
   "cell_type": "markdown",
   "id": "ad6ab73f",
   "metadata": {},
   "source": [
    "15. Aluguel de Carros"
   ]
  },
  {
   "cell_type": "code",
   "execution_count": null,
   "id": "130ed736",
   "metadata": {},
   "outputs": [],
   "source": [
    "\"\"\"Escreva um programa que pergunte a quantidade de Km percorridos por um carro alugado e a quantidade de dias \n",
    "pelos quais ele foi alugado. Calcule o preço a pagar, sabendo que o carro custa R$60 por dia e R$0,15 por Km rodado.\"\"\"\n",
    "\n",
    "Km = float(input(\"Informe a quantidade de km rodados o carro possuí: \"))\n",
    "dias = int(input(\"Informe a quantidade de dias em que o carro foi alugado: \"))\n",
    "\n",
    "preco = 60 * dias + 0.15 * Km\n",
    "\n",
    "print(\"O valor do aluguel do carro que percorreu {}Km e foi alugado durante {} dias é de R${:.2f}\".format(Km,dias,preco))"
   ]
  },
  {
   "cell_type": "markdown",
   "id": "8c5be778",
   "metadata": {},
   "source": [
    "16. Porção Inteira"
   ]
  },
  {
   "cell_type": "code",
   "execution_count": null,
   "id": "f37a0a66",
   "metadata": {},
   "outputs": [],
   "source": [
    "#016 Programa que leia um real qualquer e mostre a sua parte inteira\n",
    "from math import trunc\n",
    "\n",
    "r = float(input(\"Informe um número real qualquer: \"))\n",
    "\n",
    "intpart = trunc(r)\n",
    "\n",
    "print(\"A parte inteira do número real {} informado é {}\".format(r,intpart))"
   ]
  },
  {
   "cell_type": "markdown",
   "id": "d35af71d",
   "metadata": {},
   "source": [
    "17. Hipotenusa"
   ]
  },
  {
   "cell_type": "code",
   "execution_count": null,
   "id": "37e8ae6a",
   "metadata": {},
   "outputs": [],
   "source": [
    "\"\"\"017 Programa que leia o comprimento do cateto oposto e do cateto adjacente\n",
    "de um triangulo retangulo, calcule e mostre o comprimento da hipotenusa\"\"\"\n",
    "from math import hypot\n",
    "\n",
    "co = float(input(\"Informe o comprimento do cateto oposto: \"))\n",
    "ca = float(input(\"Informe o comprimento do cateto adjascente: \"))\n",
    "\n",
    "hipotenusa = hypot(co,ca)\n",
    "\n",
    "print(\"O comprimento da hipotenusa com base nos catetos informados é {:.2f}\".format(hipotenusa))"
   ]
  },
  {
   "cell_type": "markdown",
   "id": "cacdc6d5",
   "metadata": {},
   "source": [
    "18. Seno, Cosseno e Tangente"
   ]
  },
  {
   "cell_type": "code",
   "execution_count": null,
   "id": "9ad66413",
   "metadata": {},
   "outputs": [],
   "source": [
    "#018 Programa que leia um angulo qualquer e mostre o valor do seno, cosseno e tangente desse angulo\n",
    "from math import radians, sin, cos, tan\n",
    "\n",
    "angulo_graus = float(input(\"Informe um ângulo qualquer: \"))\n",
    "angulo_radianos = radians(angulo_graus)\n",
    "\n",
    "sen = sin(angulo_radianos)\n",
    "cos = cos(angulo_radianos)\n",
    "tan = tan(angulo_radianos)\n",
    "\n",
    "print(\"O ângulo informado é {}, o seu seno é {:.4f}, seu coseno é {:.4f} e a sua tangente é {:.4f}.\".format(angulo_graus, sen, cos, tan))"
   ]
  },
  {
   "cell_type": "markdown",
   "id": "ae5fac62",
   "metadata": {},
   "source": [
    "19. Sorteio de um item na lista"
   ]
  },
  {
   "cell_type": "code",
   "execution_count": null,
   "id": "fca78ad8",
   "metadata": {},
   "outputs": [],
   "source": [
    "\"\"\"019 Um professor quer sortear um dos seus quatro alunos para apagar o quadro. Faça um programa que o ajude lendo o nome dos alunos\n",
    "       e escrevendo o nome do escolhido.\"\"\"\n",
    "import random\n",
    "\n",
    "aluno1 = str(input(\"Informe o nome de um aluno: \"))\n",
    "aluno2 = str(input(\"Informe o nome de outro aluno: \"))\n",
    "aluno3 = str(input(\"Informe o nome de outro aluno: \"))\n",
    "aluno4 = str(input(\"Informe o nome de mais um aluno: \"))\n",
    "\n",
    "aluno = random.choice([aluno1, aluno2, aluno3, aluno4])\n",
    "\n",
    "print(\"O aluno sorteado para apagar o quadro é o {}\".format(aluno))\n",
    "\n",
    "'''\n",
    "if aluno == aluno1:\n",
    "    print(\"o aluno escolhido para apagar o quadro é {}\".format(aluno))\n",
    "elif aluno == aluno2:\n",
    "    print(\"o aluno escolhido para apagar o quadro é {}\".format(aluno))\n",
    "elif aluno == aluno3:\n",
    "    print(\"o aluno escolhido para apagar o quadro é {}\".format(aluno))\n",
    "else:\n",
    "    print(\"o aluno escolhido para apagar o quadro é {}\".format(aluno))\n",
    "'''"
   ]
  },
  {
   "cell_type": "markdown",
   "id": "03f380e2",
   "metadata": {},
   "source": [
    "20. Sorteio de ordem na lista"
   ]
  },
  {
   "cell_type": "code",
   "execution_count": null,
   "id": "f5158100",
   "metadata": {},
   "outputs": [],
   "source": [
    "#020 Faça um programa para sortear a ordem de apresentação dos alunos, leia o nome dos quatro e mostre a ordem sorteada\n",
    "from random import shuffle\n",
    "\n",
    "aluno1 = str(input(\"Informe o nome de um aluno: \"))\n",
    "aluno2 = str(input(\"Informe o nome de outro aluno: \"))\n",
    "aluno3 = str(input(\"Informe o nome de outro aluno: \"))\n",
    "aluno4 = str(input(\"Informe o nome de mais um aluno: \"))\n",
    "\n",
    "aluno = [aluno1, aluno2, aluno3, aluno4]\n",
    "shuffle(aluno)\n",
    "print(\"A ordem de apresentação dos alunos será: {}\".format(aluno))"
   ]
  },
  {
   "cell_type": "markdown",
   "id": "46c807eb",
   "metadata": {},
   "source": [
    "21. Tocando um MP3"
   ]
  },
  {
   "cell_type": "code",
   "execution_count": null,
   "id": "9b822f7d",
   "metadata": {},
   "outputs": [],
   "source": [
    "#021 Faça um programa que leia um arquivo mp3\n",
    "from pygame import mixer\n",
    "\n",
    "mixer.init()\n",
    "mixer.music.load(\"musica.mp3\") \n",
    "mixer.music.play()\n",
    "x = input(\"Presione uma tecla para parar a música\")"
   ]
  },
  {
   "cell_type": "markdown",
   "id": "a0457a75",
   "metadata": {},
   "source": [
    "22. Analisador de Textos"
   ]
  },
  {
   "cell_type": "code",
   "execution_count": null,
   "id": "0f208fc0",
   "metadata": {},
   "outputs": [],
   "source": [
    "'''022 Programa que leia o nome completo de uma pessoa e mostre: O nome com todas as letras maiusculas, com todas as letras minusculas,\n",
    "    quantas letras tem ao todo sem considerar espaços, quantas letras tem o primeiro nome'''\n",
    "nome = input(\"Digite o seu nome completo: \") #pode usar .strip aqui para remover espaços\n",
    "print(\"\\nO nome em letras maiúsculas é '{}' \".format(nome.upper()),end='')\n",
    "print(\"e em letras minúsculas é '{}'.\".format(nome.lower()))\n",
    "\n",
    "junto = nome.split()\n",
    "nometam = ''.join(junto)\n",
    "print(\"O nome informado possui {} letras, \".format(len(nometam)),end='')\n",
    "print(\"o primeiro nome é {} e ele possuí {} letras.\".format(junto[0],len(junto[0])))"
   ]
  },
  {
   "cell_type": "markdown",
   "id": "a741838e",
   "metadata": {},
   "source": [
    "23. Separando dígitos de um número"
   ]
  },
  {
   "cell_type": "code",
   "execution_count": null,
   "id": "08b367b7",
   "metadata": {},
   "outputs": [],
   "source": [
    "#023 programa que leia um numero de 0 a 9999 e mostre na tela cada um dos digitos separados, unit, deze, cent, milhar\n",
    "strnum = int(input(\"Informe um número de 0 a 9999: \"))\n",
    "\n",
    "u = strnum // 1 % 10\n",
    "d = strnum // 10 % 10\n",
    "c = strnum // 100 % 10\n",
    "m = strnum // 1000 % 10\n",
    "print(\"Unidades: {}\\nDezenas: {}\\nCentenas: {}\\nUnidades de Milhar: {}\".format(u,d,c,m))\n",
    "\n",
    "#print(\" Unidades: {}\\n Dezenas: {}\\n Centenas: {}\\n Unidades de milhar: {}\".format(strnum[3],strnum[2],strnum[1],strnum[0]))"
   ]
  },
  {
   "cell_type": "markdown",
   "id": "1ae15238",
   "metadata": {},
   "source": [
    "24. Verificando as primeiras letras de um texto"
   ]
  },
  {
   "cell_type": "code",
   "execution_count": null,
   "id": "81361dd4",
   "metadata": {},
   "outputs": [],
   "source": [
    "#024 programa que leia o nome de uma cidade e fala se ela começa com o nome 'SANTO'\n",
    "\n",
    "city = input(\"Informe o nome de uma cidade: \").strip()\n",
    "city = city.lower()\n",
    "cityname = city.split()\n",
    "\n",
    "print('santo' in cityname[0])"
   ]
  },
  {
   "cell_type": "markdown",
   "id": "41c5cb85",
   "metadata": {},
   "source": [
    "25. Procurando uma string dentro de outra"
   ]
  },
  {
   "cell_type": "code",
   "execution_count": null,
   "id": "e9d47278",
   "metadata": {},
   "outputs": [],
   "source": [
    "#025 programa que leia o nome de uma pessoa e diga se ela tem 'SILVA' no nome\n",
    "\n",
    "nome = input(\"Informe o seu nome completo: \")\n",
    "nome = nome.lower()\n",
    "snome = nome.split()\n",
    "\n",
    "print('silva' in snome)"
   ]
  },
  {
   "cell_type": "markdown",
   "id": "066ba81e",
   "metadata": {},
   "source": [
    "26. Primeira e última ocorrência de uma string"
   ]
  },
  {
   "cell_type": "code",
   "execution_count": null,
   "id": "da9f43cd",
   "metadata": {},
   "outputs": [],
   "source": [
    "#026 programa que leia uma frase informada pelo usuário e informe quantas vezes aparece a letra 'A', em que posição ela aparece pela\n",
    "#    primeira vez e em que posição ela aparece pela última vez\n",
    "\n",
    "frase = input(\"Digite qualquer frase: \").upper().strip()\n",
    "print(frase.count('A'))\n",
    "\n",
    "posicao = frase.find(\"A\")\n",
    "\n",
    "posicoes = []\n",
    "while posicao != -1:\n",
    "    posicoes.append(posicao)\n",
    "    posicao = frase.find(\"A\", posicao + 1)\n",
    "\n",
    "print(posicoes)\n",
    "\n",
    "'''o programa funciona, mas poderia ter usado\n",
    "a função rfind() que analisa da direita pra esquerda\n",
    "para verificar a ocorrencia da ultima letra A'''"
   ]
  },
  {
   "cell_type": "markdown",
   "id": "bbc63646",
   "metadata": {},
   "source": [
    "27. Primeiro e último nome de uma pessoa"
   ]
  },
  {
   "cell_type": "code",
   "execution_count": null,
   "id": "59a4fc67",
   "metadata": {},
   "outputs": [],
   "source": [
    "#027 programa que leia o nome completo de uma pessoa mostrando em seguida o primeiro e o último nome saparadamente em qualquer tamanho\n",
    "#    de nome\n",
    "\n",
    "nome = input(\"Informe seu nome completo: \").strip()\n",
    "\n",
    "nome = nome.split()\n",
    "\n",
    "print(\"O primeiro nome é: {}\".format(nome[0]))\n",
    "print(\"O último nome é: {}\".format(nome[-1])) #.format(nome[len(nome)-1])"
   ]
  },
  {
   "cell_type": "markdown",
   "id": "bc2d2f2e",
   "metadata": {},
   "source": [
    "28. Jogo da Adivinhação v1.0"
   ]
  },
  {
   "cell_type": "code",
   "execution_count": null,
   "id": "5a84982d",
   "metadata": {},
   "outputs": [],
   "source": [
    "#028 programa que faça o pc pensar em um número inteiro entre 0 e 5 e peça para o usuário tentar descobrir qual foi o número escolhido\n",
    "#pelo pc, o programa deve escrever na tela se o usuário acertou ou não\n",
    "\n",
    "import random\n",
    "from time import sleep\n",
    "\n",
    "pcnum = random.randint(0,5)\n",
    "usrnum = 0\n",
    "\n",
    "while usrnum != pcnum:\n",
    "    usrnum = int(input(\"Digite um número de 0 a 5 que você acha que o PC 'pensou': \"))\n",
    "    print(\"Processando...\")\n",
    "    sleep(3)\n",
    "    if usrnum == pcnum:\n",
    "        print(\"Parabéns, você acertou!\")\n",
    "    else:\n",
    "        print(\"Você errou, tente novamente!\\n\")\n",
    "\n",
    "#programa foi melhorado com estrutura de repetição para melhor interatividade"
   ]
  },
  {
   "cell_type": "markdown",
   "id": "4e0d82d8",
   "metadata": {},
   "source": [
    "29. Radar eletrônico"
   ]
  },
  {
   "cell_type": "code",
   "execution_count": null,
   "id": "b1179208",
   "metadata": {},
   "outputs": [],
   "source": [
    "#029 escreva um programa que leia a velocidade de um carro, se passar de 80 km, mostre que foi multado, o valor da multa é 7 reais por km\n",
    "#acima do limite\n",
    "\n",
    "velocidade = int(input(\"Informe a velocidade que o sujeito estava: \"))\n",
    "\n",
    "if velocidade > 80:\n",
    "    print(\"Você foi multado! E o valor da sua multa é de R${:.2f}\".format((velocidade - 80) * 7))\n",
    "else:\n",
    "    print(\"O indivíduo estava dentro do limite de velocidade permitido!\")"
   ]
  },
  {
   "cell_type": "markdown",
   "id": "38ce17d4",
   "metadata": {},
   "source": [
    "30. Par ou Ímpar?"
   ]
  },
  {
   "cell_type": "code",
   "execution_count": null,
   "id": "141bee73",
   "metadata": {},
   "outputs": [],
   "source": [
    "#030 crie um programa que leia um inteiro e informe se é par ou impar.\n",
    "\n",
    "num = int(input(\"Informe um número: \"))\n",
    "\n",
    "if num % 2 == 0:\n",
    "    print(\"O número {} é par\".format(num))\n",
    "else:\n",
    "    print(\"O número {} é impar\".format(num))"
   ]
  },
  {
   "cell_type": "markdown",
   "id": "13b746a1",
   "metadata": {},
   "source": [
    "31. Custo da Viagem"
   ]
  },
  {
   "cell_type": "code",
   "execution_count": null,
   "id": "c03d39ce",
   "metadata": {},
   "outputs": [],
   "source": [
    "#031 programa que pergunte a distancia de uma viagem em km. o preço a ser calculado é 50 centavos por km se a viagem for de até 200km\n",
    "#se for mais, cobre 45 centavos por km\n",
    "\n",
    "distancia = float(input(\"Informe a distância da viagem em KM: \"))\n",
    "\n",
    "if distancia <= 200:\n",
    "    print(\"O valor da viagem será de R${:.2f}\".format(distancia * 0.5))\n",
    "else:\n",
    "    print(\"O valor da viagem será de R${:.2f}\".format(distancia * 0.45))"
   ]
  },
  {
   "cell_type": "markdown",
   "id": "0b57fa82",
   "metadata": {},
   "source": [
    "32. Ano Bissexto"
   ]
  },
  {
   "cell_type": "code",
   "execution_count": null,
   "id": "fbc43a42",
   "metadata": {},
   "outputs": [],
   "source": [
    "#032 faça um programa que leia um ano qualquer e informe se ele é bissexto.\n",
    "\n",
    "ano = int(input(\"Informe um ano para saber se ele é bissexto: \"))\n",
    "\n",
    "if ano % 100 == 0:\n",
    "    if ano % 400 == 0:\n",
    "        print(\"O ano {} é um ano bissexto!\".format(ano))\n",
    "    else:\n",
    "        print(\"O ano {} não é um ano bissexto!\".format(ano))\n",
    "elif ano % 4 == 0:\n",
    "    print(\"O ano {} é bissexto!\".format(ano))\n",
    "else:\n",
    "    print(\"O ano {} não é um ano bissexto!\".format(ano))"
   ]
  },
  {
   "cell_type": "markdown",
   "id": "20815d1b",
   "metadata": {},
   "source": [
    "33. Maior e menor valores"
   ]
  },
  {
   "cell_type": "code",
   "execution_count": null,
   "id": "13760468",
   "metadata": {},
   "outputs": [],
   "source": [
    "#033 faça um programa que leia três números e mostre qual é o maior e o menor\n",
    "num1 = int(input(\"Informe um número: \"))\n",
    "num2 = int(input(\"Informe um segundo número: \"))\n",
    "num3 = int(input(\"Infomre um terceiro número: \"))\n",
    "menor = 0\n",
    "maior = 0\n",
    "\n",
    "if num1 > num2 and num1 > num3:\n",
    "    maior = num1\n",
    "elif num2 > num1 and num2 > num3:\n",
    "    maior = num2\n",
    "elif num3 > num1 and num3 > num2:\n",
    "    maior = num3\n",
    "if num1 < num2 and num1 < num3:\n",
    "    menor = num1\n",
    "elif num2 < num1 and num2 < num3:\n",
    "    menor = num2\n",
    "elif num3 < num1 and num3 < num2:\n",
    "    menor = num3\n",
    "\n",
    "print(\"O maior número é: \", maior)\n",
    "print(\"O menor número é: \", menor)"
   ]
  },
  {
   "cell_type": "markdown",
   "id": "70c5adfc",
   "metadata": {},
   "source": [
    "34. Aumentos múltiplos"
   ]
  },
  {
   "cell_type": "code",
   "execution_count": null,
   "id": "69d852e3",
   "metadata": {},
   "outputs": [],
   "source": [
    "#034 programa que pergunta o salario do funcionario, se for maior que 1250, aumento de 10%, se for igual ou menor, aumento de 15%\n",
    "\n",
    "salario = float(input(\"Informe o salário do funcionário: \"))\n",
    "\n",
    "if salario > 1250:\n",
    "    print(\"\\nO aumento de salário será de 10%, o aumento será de R${:.2f}\\ne o seu novo salário será de R${:.2f}\".format(salario * 0.1, salario + salario * 0.1))\n",
    "else:\n",
    "    print(\"\\nO almento de salário será de 15%, o aumento será de R${:.2f}\\ne o seu novo salário será de R${:.2f}\".format(salario * 0.15, salario + salario * 0.15))"
   ]
  },
  {
   "cell_type": "markdown",
   "id": "b2377599",
   "metadata": {},
   "source": [
    "35. Analisando Triângulo v1.0"
   ]
  },
  {
   "cell_type": "code",
   "execution_count": null,
   "id": "3b71182a",
   "metadata": {},
   "outputs": [],
   "source": [
    "#035 programa que leia comprimento de três retas e diga ao usuário se podem ou não formar um triângulo.\n",
    "\n",
    "A = float(input(\"Digite o tamanho da reta A: \"))\n",
    "B = float(input(\"Digite o tamanho da reta B: \"))\n",
    "C = float(input(\"Digite o tamanho da reta C: \"))\n",
    "\n",
    "if A + B > C and A + C > B and B + C > A:\n",
    "    print(\"\\nÉ possível formar um triângulo com essas retas!\")\n",
    "else:\n",
    "    print(\"\\nNão é possível formar um triângulo com essas retas!\")"
   ]
  },
  {
   "cell_type": "markdown",
   "id": "b6ba1576",
   "metadata": {},
   "source": [
    "Manipulando Texto"
   ]
  },
  {
   "cell_type": "code",
   "execution_count": null,
   "id": "fb3aa228",
   "metadata": {},
   "outputs": [],
   "source": [
    "frase = '     Curso em Vídeo Python     '\n",
    "print(frase.find('deo'))\n",
    "print(frase.replace('Python','Guanabara'))\n",
    "print(frase.capitalize())\n",
    "print(frase.title())\n",
    "print(frase.strip())\n",
    "print(frase.rstrip())\n",
    "print(frase.lstrip())\n",
    "print(frase.upper())\n",
    "print(frase.lower())\n",
    "separator = frase.split()\n",
    "print(separator)\n",
    "print('-'.join(separator))"
   ]
  },
  {
   "cell_type": "markdown",
   "id": "6aac87d4",
   "metadata": {},
   "source": [
    "Data de Nascimento"
   ]
  },
  {
   "cell_type": "code",
   "execution_count": null,
   "id": "6d17ae3a",
   "metadata": {},
   "outputs": [],
   "source": [
    "Dia = input('Em qual dia você nasceu?')\n",
    "Mes = input('Em qual mês você nasceu?')\n",
    "Ano = input('Em qual ano você nasceu')\n",
    "print('Você nasceu no dia',Dia,' de ',Mes,' de ',Ano,'. Correto?')"
   ]
  },
  {
   "cell_type": "markdown",
   "id": "9d12f878",
   "metadata": {},
   "source": [
    "Qual é o seu nome?"
   ]
  },
  {
   "cell_type": "code",
   "execution_count": null,
   "id": "53da3fdb",
   "metadata": {},
   "outputs": [],
   "source": [
    "num1 = int(input('Infome o primeiro número: '))\n",
    "num2 = int(input('Informe o segundo número: '))\n",
    "\n",
    "sum = num1 + num2\n",
    "\n",
    "print('A soma desses dois números é:', sum)"
   ]
  },
  {
   "cell_type": "markdown",
   "id": "005d00e2",
   "metadata": {},
   "source": [
    "Soma de dois números"
   ]
  },
  {
   "cell_type": "code",
   "execution_count": null,
   "id": "8f4d952e",
   "metadata": {},
   "outputs": [],
   "source": [
    "nome = input('Qual é o seu nome? ')\n",
    "print('Olá '+ nome +', é um prazer te conhecer!')"
   ]
  },
  {
   "cell_type": "markdown",
   "id": "cd7c281f",
   "metadata": {},
   "source": [
    "Teste de Script"
   ]
  },
  {
   "cell_type": "code",
   "execution_count": null,
   "id": "e9eea1c1",
   "metadata": {},
   "outputs": [],
   "source": [
    "nome = input('Qual o seu nome: ')\n",
    "idade = input('Qual é a sua idade: ')\n",
    "peso = input('Qual o seu peso: ')\n",
    "print(nome, idade, peso)"
   ]
  },
  {
   "cell_type": "markdown",
   "id": "731ca809",
   "metadata": {},
   "source": [
    "Cores no Terminal"
   ]
  },
  {
   "cell_type": "code",
   "execution_count": null,
   "id": "c8caac08",
   "metadata": {},
   "outputs": [],
   "source": [
    "nome = 'Juan'\n",
    "cores = {'limpa':'\\033[m',\n",
    "         'azul':'\\033[34m',\n",
    "         'amarelo':'\\033[33m',\n",
    "         'pretoebranco':'\\033[1;7;40m'}\n",
    "print(\"Olá! Prazer em te conhecer, {}{}{}!!!\".format(cores['pretoebranco'],nome,cores['limpa']))\n",
    "\n",
    "'''\n",
    "nome = 'Juan'\n",
    "print(\"Olá! Prazer em te conhecer,{}{}{}!!!\".format('\\033[4;34m', nome,'\\033[m'))\n",
    "'''\n",
    "\n",
    "'''\n",
    "a = 3\n",
    "b = 5\n",
    "\n",
    "print(\"Os valores são \\033[32m{}\\033[m e \\033[31m{}\\033[m!!!\".format(a,b))\n",
    "'''"
   ]
  },
  {
   "cell_type": "markdown",
   "id": "f46bff5d",
   "metadata": {},
   "source": [
    "Desafio Extra Soma"
   ]
  },
  {
   "cell_type": "code",
   "execution_count": null,
   "id": "38779fbd",
   "metadata": {},
   "outputs": [],
   "source": [
    "n1 = int(input('Informe um número: '))\n",
    "n2 = int(input('Informe outro número: '))\n",
    "\n",
    "s = n1 + n2\n",
    "sub = n1 - n2\n",
    "m = n1 * n2\n",
    "div = n1 / n2\n",
    "p = n1 ** n2\n",
    "div_int = n1 // n2\n",
    "r = n1 % n2\n",
    "\n",
    "print('A soma desses números é {}, a subtração é {}, o produto é {} e a razão é {:.3f}'.format(s,sub,m,div),end=' ')\n",
    "print('A potência desses números é {}, a divisão inteira é {} e o resto da divisão é {}'.format(p, div_int,r))"
   ]
  },
  {
   "cell_type": "markdown",
   "id": "2eec7939",
   "metadata": {},
   "source": [
    "Operadores Aritméticos"
   ]
  },
  {
   "cell_type": "code",
   "execution_count": null,
   "id": "e630cf69",
   "metadata": {},
   "outputs": [],
   "source": [
    "#tipos primitivos int, float, Bool e str\n",
    "num1 = int(input('Infome o primeiro número: '))\n",
    "num2 = int(input('Informe o segundo número: '))\n",
    "\n",
    "sum = num1 + num2\n",
    "print(type(sum))\n",
    "\n",
    "print('A soma entre {} e {} é {} '.format(num1,num2,sum))"
   ]
  }
 ],
 "metadata": {
  "kernelspec": {
   "display_name": ".venv",
   "language": "python",
   "name": "python3"
  },
  "language_info": {
   "codemirror_mode": {
    "name": "ipython",
    "version": 3
   },
   "file_extension": ".py",
   "mimetype": "text/x-python",
   "name": "python",
   "nbconvert_exporter": "python",
   "pygments_lexer": "ipython3",
   "version": "3.12.3"
  }
 },
 "nbformat": 4,
 "nbformat_minor": 5
}

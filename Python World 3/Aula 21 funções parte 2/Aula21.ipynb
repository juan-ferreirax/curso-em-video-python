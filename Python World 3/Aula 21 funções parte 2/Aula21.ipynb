{
 "cells": [
  {
   "cell_type": "markdown",
   "id": "fc24e26d",
   "metadata": {},
   "source": [
    "### Aprendizados da aula\n",
    "\n",
    "##### Interactive Help  \n",
    "    print(input.__doc__)  \n",
    "    help(input)  \n",
    "##### Docstrings\n",
    "    \"\"\"  \n",
    "\n",
    "    \"\"\"  \n",
    "##### Parâmetros Opcionais  \n",
    "    def somar(a, b, c=0):\n",
    "        s = a + b + c\n",
    "        print(s)\n",
    "\n",
    "    somar(8, 2)\n",
    "##### Escopo de Variáveis(Local e Global)\n",
    "    def teste(x):\n",
    "        global a #instrução para usar a global ao invés de criar um \"a\" local\n",
    "        a = 2 #modificação da variável global \"a\"\n",
    "        b = 4\n",
    "        c = 6\n",
    "        print(f\"a dentro vale {a}\")\n",
    "        print(f\"b dentro vale {b}\")\n",
    "        print(f\"c dentro vale {c}\")\n",
    "\n",
    "a = 8 # a global  \n",
    "teste(a) saida = 2  \n",
    "print(f\"O a de fora vale {a}\") #aqui será impresso 2, \"a\" teve seu valor 8 perdido pois a = 2 substituiu ele.\n",
    "##### Return\n",
    "    def soma(x=0, y=0, z=0):\n",
    "        r = x + y + z\n",
    "        return r\n",
    "\n",
    "print(f\"O resultado é {soma(5, 8)}.\")\n",
    "\n",
    "\n"
   ]
  },
  {
   "cell_type": "code",
   "execution_count": 7,
   "id": "218cc9cd",
   "metadata": {},
   "outputs": [
    {
     "name": "stdout",
     "output_type": "stream",
     "text": [
      "Nome: Bob\n",
      "Idade: 25\n",
      "Cidade: London\n"
     ]
    }
   ],
   "source": [
    "def dados_pessoa():\n",
    "    nome = \"Bob\"\n",
    "    idade = 25\n",
    "    cidade = \"London\"\n",
    "    return nome, idade, cidade # Retorna uma tupla implicitamente\n",
    "\n",
    "# A função retorna uma tupla de valores\n",
    "nome_retorno, idade_retorno, cidade_retorno = dados_pessoa()\n",
    "\n",
    "print(f\"Nome: {nome_retorno}\")\n",
    "print(f\"Idade: {idade_retorno}\")\n",
    "print(f\"Cidade: {cidade_retorno}\")"
   ]
  },
  {
   "cell_type": "markdown",
   "id": "578f5dd5",
   "metadata": {},
   "source": [
    "101. Função de voto"
   ]
  },
  {
   "cell_type": "code",
   "execution_count": null,
   "id": "0ecaf9c0",
   "metadata": {},
   "outputs": [
    {
     "name": "stdout",
     "output_type": "stream",
     "text": [
      "Com 18 anos: VOTO OBRIGATÓRIO \n"
     ]
    }
   ],
   "source": [
    "def voto(ano):\n",
    "    #Importação da library apenas dentro do escopo da função. Isso economiza memória.\n",
    "    from datetime import datetime\n",
    "    idade = datetime.now().year - ano\n",
    "    voto = \"\"\n",
    "    if idade < 16:\n",
    "        voto = \"NEGADO\"\n",
    "    elif idade >= 16 and idade < 18 or idade >= 70:\n",
    "        voto = \"OPCIONAL\"\n",
    "    else:\n",
    "        voto = \"OBRIGATÓRIO\"\n",
    "    return idade, voto\n",
    "\n",
    "\n",
    "ano = int(input(\"Informe o seu ano de nascimento: \"))\n",
    "idade, vt = voto(ano)\n",
    "print(f\"Com {idade} anos: VOTO {vt} \")\n"
   ]
  },
  {
   "cell_type": "markdown",
   "id": "e7d28677",
   "metadata": {},
   "source": [
    "102. Fatorial com etapas"
   ]
  },
  {
   "cell_type": "code",
   "execution_count": 6,
   "id": "74dc8dec",
   "metadata": {},
   "outputs": [
    {
     "name": "stdout",
     "output_type": "stream",
     "text": [
      "1\n",
      "-----------------------\n",
      "Help on function fatorial in module __main__:\n",
      "\n",
      "fatorial(num, show=False)\n",
      "    --> Calcula o fatorial de um número.\n",
      "    Args:\n",
      "        num (int): Número a ser calculado o fatorial.\n",
      "        show (bool, optional): Parâmetro para exibição do cálculo. Defaults to False.\n",
      "    Returns:\n",
      "        int: O valor do fatorial de um número n.\n",
      "\n"
     ]
    }
   ],
   "source": [
    "def fatorial(num, show=False):\n",
    "    \"\"\"\n",
    "    --> Calcula o fatorial de um número.\n",
    "    Args:\n",
    "        num (int): Número a ser calculado o fatorial.\n",
    "        show (bool, optional): Parâmetro para exibição do cálculo. Defaults to False.\n",
    "    Returns:\n",
    "        int: O valor do fatorial de um número n.\n",
    "    \"\"\"\n",
    "    f = 1\n",
    "    for c in range(num, 0, -1):\n",
    "        if show:\n",
    "            print(c, end=\"\")\n",
    "            if c > 1:\n",
    "                print(\" x \", end=\"\")\n",
    "            else:\n",
    "                print(\" = \", end=\"\")\n",
    "        f *= c\n",
    "    return f\n",
    "\n",
    "num = int(input(\"Informe um valor para calcular o fatorial: \"))\n",
    "resp = input(\"Deseja ver o processo do calculo?[S/N]: \").capitalize()\n",
    "show = resp == \"S\"\n",
    "print(fatorial(num, show))\n",
    "print(\"-\" * 23)\n",
    "help(fatorial)"
   ]
  },
  {
   "cell_type": "markdown",
   "id": "458c637b",
   "metadata": {},
   "source": [
    "103. Ficha do jogador."
   ]
  },
  {
   "cell_type": "code",
   "execution_count": null,
   "id": "fd42ff75",
   "metadata": {},
   "outputs": [
    {
     "name": "stdout",
     "output_type": "stream",
     "text": [
      "O jogador j fez 8 gol(s) no campeonato.\n"
     ]
    }
   ],
   "source": [
    "def ficha(nome=\"<desconhecido>\", gols=\"0\"):\n",
    "    if gols.isdigit():\n",
    "        gols = int(gols)\n",
    "    else:\n",
    "        gols = 0\n",
    "    print(f\"O jogador {nome} fez {gols} gol(s) no campeonato.\")\n",
    "\n",
    "nome = input(\"Nome do jogador: \")\n",
    "gols = input(\"Nº de gols: \")\n",
    "if nome.strip() == \"\":\n",
    "    ficha(gols=gols)\n",
    "else:\n",
    "    ficha(nome, gols)"
   ]
  },
  {
   "cell_type": "markdown",
   "id": "e3ca8b24",
   "metadata": {},
   "source": [
    "104. input personalizado para int"
   ]
  },
  {
   "cell_type": "code",
   "execution_count": 12,
   "id": "7ca54de4",
   "metadata": {},
   "outputs": [
    {
     "name": "stdout",
     "output_type": "stream",
     "text": [
      "\u001b[31mERRO! Informe um inteiro válido!\n",
      "\u001b[31mERRO! Informe um inteiro válido!\n",
      "\u001b[31mERRO! Informe um inteiro válido!\n",
      "\u001b[37mVocê acabou de informar o número 8\n"
     ]
    }
   ],
   "source": [
    "vermelho = \"\\033[31m\"\n",
    "branco = \"\\033[37m\"\n",
    "\n",
    "def leiaInt(msg):\n",
    "    while True:\n",
    "        n = input(msg)\n",
    "        if n.isdigit():\n",
    "            break\n",
    "        else:\n",
    "            print(vermelho + \"ERRO! Informe um inteiro válido!\", flush=True)\n",
    "    return int(n)\n",
    "\n",
    "num = leiaInt(\"Informe um número: \")\n",
    "print(branco + f\"Você acabou de informar o número {num}\")"
   ]
  },
  {
   "cell_type": "markdown",
   "id": "8980dc3f",
   "metadata": {},
   "source": [
    "105. Detalhamento de alunos"
   ]
  },
  {
   "cell_type": "code",
   "execution_count": 16,
   "id": "1266792e",
   "metadata": {},
   "outputs": [
    {
     "name": "stdout",
     "output_type": "stream",
     "text": [
      "{'Quantidade de notas': 5, 'Maior nota': 9, 'Menor nota': 4, 'Média': 6.4, 'Situação': 'BOA'}\n",
      "------------------------------------------\n",
      "Quantidade de notas: 5\n",
      "Maior nota: 9\n",
      "Menor nota: 4\n",
      "Média: 6.4\n",
      "Situação: BOA\n",
      "------------------------------------------\n",
      "Help on function notas in module __main__:\n",
      "\n",
      "notas(*n, s=False)\n",
      "    --> Mostra informações sobre as notas da turma e sua situação.\n",
      "    Args:\n",
      "        n (float): Armazena as notas da turma sem limite determinado.\n",
      "        s (bool, optional): Indica se o status da turma será exibido ou não. Por padrão é definido como False.\n",
      "    Returns:\n",
      "        dict: Dicionário com as informações das notas e da situação se for solicitada.\n",
      "\n"
     ]
    }
   ],
   "source": [
    "def notas(* n, s=False):\n",
    "    \"\"\"\n",
    "    --> Mostra informações sobre as notas da turma e sua situação.\n",
    "    Args:\n",
    "        n (float): Armazena as notas da turma sem limite determinado.\n",
    "        s (bool, optional): Indica se o status da turma será exibido ou não. Por padrão é definido como False.\n",
    "    Returns:\n",
    "        dict: Dicionário com as informações das notas e da situação se for solicitada.\n",
    "    \"\"\"\n",
    "    info = {}\n",
    "    info[\"Quantidade de notas\"] = len(n)\n",
    "    info[\"Maior nota\"] = max(n)\n",
    "    info[\"Menor nota\"] = min(n)\n",
    "    info[\"Média\"] = round(sum(n) / len(n), 2)\n",
    "    if s:\n",
    "        if info[\"Média\"] < 6:\n",
    "            info[\"Situação\"] = \"RUIM\"\n",
    "        elif info[\"Média\"] >= 6 and info[\"Média\"] <= 8:\n",
    "            info[\"Situação\"] = \"BOA\"\n",
    "        else:\n",
    "            info[\"Situação\"] = \"ÓTIMA\"\n",
    "    return info\n",
    "\n",
    "print(notas(9, 5, 6, 4, 8, s=True))\n",
    "print(\"-\" * 42)\n",
    "for key, values in notas(9, 5, 6, 4, 8, s=True).items():\n",
    "    print(f\"{key}: {values}\")\n",
    "print(\"-\" * 42)\n",
    "help(notas)\n"
   ]
  },
  {
   "cell_type": "markdown",
   "id": "9b5dc280",
   "metadata": {},
   "source": [
    "106. pyHELP"
   ]
  },
  {
   "cell_type": "code",
   "execution_count": 4,
   "id": "8737f524",
   "metadata": {},
   "outputs": [
    {
     "name": "stdout",
     "output_type": "stream",
     "text": [
      "\u001b[33m~~~~~~~~~~~~~~~~~~~~~~~~~~~\u001b[m\n",
      "\u001b[33m  SISTEMA DE AJUDA PyHELP\u001b[m\n",
      "\u001b[33m~~~~~~~~~~~~~~~~~~~~~~~~~~~\u001b[m\n",
      "\u001b[36m~~~~~~~~~~~~~~~~~~~~~~~~~~~~~~~~~~~~~~~~~\u001b[m\n",
      "\u001b[36m  Acessando o manual do comando \"print\"\u001b[m\n",
      "\u001b[36m~~~~~~~~~~~~~~~~~~~~~~~~~~~~~~~~~~~~~~~~~\u001b[m\n",
      "\u001b[34mHelp on built-in function print in module builtins:\n",
      "\n",
      "print(*args, sep=' ', end='\\n', file=None, flush=False)\n",
      "    Prints the values to a stream, or to sys.stdout by default.\n",
      "\n",
      "    sep\n",
      "      string inserted between values, default a space.\n",
      "    end\n",
      "      string appended after the last value, default a newline.\n",
      "    file\n",
      "      a file-like object (stream); defaults to the current sys.stdout.\n",
      "    flush\n",
      "      whether to forcibly flush the stream.\n",
      "\n",
      "\u001b[m\n",
      "\u001b[32m~~~~~~~~~~~~~~~~~~~~~~~~~~~~~~~~~~~~\u001b[m\n",
      "\u001b[32m  PROGRAMA FINALIZADO COM SUCESSO!\u001b[m\n",
      "\u001b[32m~~~~~~~~~~~~~~~~~~~~~~~~~~~~~~~~~~~~\u001b[m\n"
     ]
    }
   ],
   "source": [
    "from time import sleep\n",
    "\n",
    "blue = \"\\033[34m\"\n",
    "green = \"\\033[32m\"\n",
    "yellow = \"\\033[33m\"\n",
    "reset = \"\\033[m\"\n",
    "ciano = \"\\033[36m\"\n",
    "\n",
    "def write(msg, cor=reset):\n",
    "    print(cor + \"~\" * len(msg) + \"~~~~\" + reset)\n",
    "    print(cor + f\"  {msg}\" + reset)\n",
    "    print(cor + \"~\" * len(msg) + \"~~~~\" + reset)\n",
    "\n",
    "def pyHelp():\n",
    "    while True:\n",
    "        cmd = input(\"Comando ou biblioteca: \").lower()\n",
    "        if cmd.upper() == \"FIM\":\n",
    "            msg2 = \"PROGRAMA FINALIZADO COM SUCESSO!\"\n",
    "            write(msg2, green)\n",
    "            break\n",
    "        else:\n",
    "            msg1 = f\"Acessando o manual do comando \\\"{cmd}\\\"\"\n",
    "            write(msg1, ciano)\n",
    "            sleep(2)\n",
    "            print(blue, end=\"\")\n",
    "            help(cmd)\n",
    "            print(reset)\n",
    "\n",
    "def main():\n",
    "    msg = \"SISTEMA DE AJUDA PyHELP\"\n",
    "    write(msg, yellow)\n",
    "    sleep(1)\n",
    "    pyHelp()\n",
    "\n",
    "if __name__ == \"__main__\":\n",
    "    main()"
   ]
  }
 ],
 "metadata": {
  "kernelspec": {
   "display_name": ".venv",
   "language": "python",
   "name": "python3"
  },
  "language_info": {
   "codemirror_mode": {
    "name": "ipython",
    "version": 3
   },
   "file_extension": ".py",
   "mimetype": "text/x-python",
   "name": "python",
   "nbconvert_exporter": "python",
   "pygments_lexer": "ipython3",
   "version": "3.12.3"
  }
 },
 "nbformat": 4,
 "nbformat_minor": 5
}

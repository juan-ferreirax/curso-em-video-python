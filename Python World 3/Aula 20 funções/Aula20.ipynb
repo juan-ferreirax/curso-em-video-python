{
 "cells": [
  {
   "cell_type": "markdown",
   "id": "859a93fe",
   "metadata": {},
   "source": [
    "Aprendizados da aula"
   ]
  },
  {
   "cell_type": "code",
   "execution_count": null,
   "id": "986fea57",
   "metadata": {},
   "outputs": [
    {
     "name": "stdout",
     "output_type": "stream",
     "text": [
      "Os números são (5, 4, 3, 2, 8) totalizando 5 números\n",
      "Os números são (2, 3, 9, 0) totalizando 4 números\n",
      "[4, 8, 12, 16, 20]\n"
     ]
    }
   ],
   "source": [
    "#Passagem de parâmetro no Python é por referência, não por valor\n",
    "#lista nesse caso é como um ponteiro temporário para o objeto que está sendo referenciado por valores\n",
    "def dobrar_valor(lista):\n",
    "    for pos in range(len(lista)):\n",
    "        lista[pos] *= 2\n",
    "\n",
    "#O * é usado para passar uma quantidade de parâmetros que não se sabe previamente\n",
    "def contador(* num):\n",
    "    print(f\"Os números são {num} totalizando {len(num)} números\")\n",
    "\n",
    "contador(5, 4, 3, 2, 8)\n",
    "contador(2, 3, 9, 0)\n",
    "\n",
    "valores = [2, 4, 6, 8, 10]\n",
    "dobrar_valor(valores)\n",
    "print(valores)"
   ]
  },
  {
   "cell_type": "markdown",
   "id": "75b734f2",
   "metadata": {},
   "source": [
    "96. Calculo da área de um terrenho."
   ]
  },
  {
   "cell_type": "code",
   "execution_count": null,
   "id": "5849c5f4",
   "metadata": {},
   "outputs": [
    {
     "name": "stdout",
     "output_type": "stream",
     "text": [
      "--------------------\n",
      "Controle de Terrenos\n",
      "--------------------\n",
      "O terreno possui uma área de 20.00m²\n"
     ]
    }
   ],
   "source": [
    "def lin():\n",
    "    print(\"-\" * 20)\n",
    "\n",
    "def area(c, l):\n",
    "    a = c * l\n",
    "    #funções que não retornam explicitamente um valor retornam none por padrão.\n",
    "    print(f\"O terreno possui uma área de {a:.2f}m²\")\n",
    "\n",
    "#Se for usar ela dentro da string, não usar print na função\n",
    "lin()\n",
    "print(\"Controle de Terrenos\")\n",
    "lin()\n",
    "c = float(input(\"Comprimento: \"))\n",
    "l = float(input(\"Largura: \"))\n",
    "area(c, l)\n"
   ]
  },
  {
   "cell_type": "markdown",
   "id": "5f5c5200",
   "metadata": {},
   "source": [
    "97. Função para texto adaptável"
   ]
  },
  {
   "cell_type": "code",
   "execution_count": null,
   "id": "756b03b3",
   "metadata": {},
   "outputs": [
    {
     "name": "stdout",
     "output_type": "stream",
     "text": [
      "~~~~~~~~~~~~~~~~~~~~~~~\n",
      "  dia de planejamento\n",
      "~~~~~~~~~~~~~~~~~~~~~~~\n"
     ]
    }
   ],
   "source": [
    "def write(msg):\n",
    "    print(\"~\" * len(msg) + \"~~~~\")\n",
    "    print(f\"  {msg}\")\n",
    "    print(\"~\" * len(msg) + \"~~~~\")\n",
    "\n",
    "write(\"dia de planejamento\")"
   ]
  },
  {
   "cell_type": "markdown",
   "id": "d001967e",
   "metadata": {},
   "source": [
    "98. Contador Personalisado"
   ]
  },
  {
   "cell_type": "code",
   "execution_count": null,
   "id": "22ae1954",
   "metadata": {},
   "outputs": [
    {
     "name": "stdout",
     "output_type": "stream",
     "text": [
      "-=-=-=-=-=-=-=-=-=-=-=-=-=-=-=-=-=-=-=-=-=\n",
      "1 2 3 4 5 6 7 8 9 10 \n",
      "-=-=-=-=-=-=-=-=-=-=-=-=-=-=-=-=-=-=-=-=-=\n",
      "10 8 6 4 2 0 \n",
      "-=-=-=-=-=-=-=-=-=-=-=-=-=-=-=-=-=-=-=-=-=\n",
      "Personalize agora a execução do contador: \n",
      "-=-=-=-=-=-=-=-=-=-=-=-=-=-=-=-=-=-=-=-=-=\n",
      "-10 -8 -6 -4 -2 0 2 4 6 8 10 \n"
     ]
    }
   ],
   "source": [
    "from time import sleep\n",
    "\n",
    "def line():\n",
    "    print(\"-=\" * 21)\n",
    "\n",
    "def contador(i, f, p):\n",
    "    if p < 0:\n",
    "        p *= -1\n",
    "    if p == 0:\n",
    "        p = 1\n",
    "    if i < f:\n",
    "        while i <= f:\n",
    "            print(i, end=\" \")\n",
    "            sleep(0.5)\n",
    "            i += p\n",
    "        print()\n",
    "    elif i > f:\n",
    "        while i >= f:\n",
    "            print(i, end=\" \")\n",
    "            sleep(0.5)\n",
    "            i -= p\n",
    "        print()\n",
    "\n",
    "line()\n",
    "contador(1, 10, 1)\n",
    "line()\n",
    "contador(10, 0, 2)\n",
    "line()\n",
    "print(\"Personalize agora a execução do contador: \")\n",
    "line()\n",
    "i = int(input(\"Informe o início: \"))\n",
    "f = int(input(\"Informe o final: \"))\n",
    "p = int(input(\"Informe o passo: \"))\n",
    "contador(i, f, p)"
   ]
  },
  {
   "cell_type": "markdown",
   "id": "aeb78cc5",
   "metadata": {},
   "source": [
    "99. Verificar maior na função"
   ]
  },
  {
   "cell_type": "code",
   "execution_count": 8,
   "id": "23f11bc2",
   "metadata": {},
   "outputs": [
    {
     "name": "stdout",
     "output_type": "stream",
     "text": [
      "Analisando os valores...\n",
      "-=-=-=-=-=-=-=-=-=-=-=-=-=-=-=-=-=-=-=-=-=-=-=-=-=-=-=-=-=-=-=-=-=-=-=-=-=\n",
      "Os valores informados foram (4, 3, 2, 5, 1) e o maior valor informado é 5.\n",
      "-=-=-=-=-=-=-=-=-=-=-=-=-=-=-=-=-=-=-=-=-=-=-=-=-=-=-=-=-=-=-=-=-=-=-=-=-=\n",
      "Analisando os valores...\n",
      "-=-=-=-=-=-=-=-=-=-=-=-=-=-=-=-=-=-=-=-=-=-=-=-=-=-=-=-=-=-=-=-=-=-=-=-=-=\n",
      "Os valores informados foram (3, 9, 1) e o maior valor informado é 9.\n",
      "-=-=-=-=-=-=-=-=-=-=-=-=-=-=-=-=-=-=-=-=-=-=-=-=-=-=-=-=-=-=-=-=-=-=-=-=-=\n",
      "Analisando os valores...\n",
      "-=-=-=-=-=-=-=-=-=-=-=-=-=-=-=-=-=-=-=-=-=-=-=-=-=-=-=-=-=-=-=-=-=-=-=-=-=\n",
      "Não foi informado nenhum valor, logo o maior valor é 0.\n",
      "-=-=-=-=-=-=-=-=-=-=-=-=-=-=-=-=-=-=-=-=-=-=-=-=-=-=-=-=-=-=-=-=-=-=-=-=-=\n"
     ]
    }
   ],
   "source": [
    "from time import sleep\n",
    "\n",
    "def maior(* num):\n",
    "    print(\"Analisando os valores...\")\n",
    "    sleep(3)\n",
    "    print(\"-=\" * 37)\n",
    "    if num:\n",
    "        print(f\"Os valores informados foram {num} e o maior valor informado é {max(num)}.\")\n",
    "    else:\n",
    "        print(\"Não foi informado nenhum valor, logo o maior valor é 0.\")\n",
    "    print(\"-=\" * 37)\n",
    "\n",
    "maior(4, 3, 2, 5, 1)\n",
    "maior(3, 9, 1)\n",
    "maior()"
   ]
  },
  {
   "cell_type": "markdown",
   "id": "23480579",
   "metadata": {},
   "source": [
    "100. Sorteio e Par"
   ]
  },
  {
   "cell_type": "code",
   "execution_count": 1,
   "id": "659bb72e",
   "metadata": {},
   "outputs": [
    {
     "name": "stdout",
     "output_type": "stream",
     "text": [
      "Os números sorteados foram 99 42 79 80 32 e a soma dos pares é 154.\n"
     ]
    }
   ],
   "source": [
    "from random import randint\n",
    "from time import sleep\n",
    "numeros = []\n",
    "\n",
    "def sorteia():\n",
    "    for _ in range(5):\n",
    "        n = randint(1, 100)\n",
    "        numeros.append(n)\n",
    "        print(f\"{n}\", end=\" \", flush=True)\n",
    "        sleep(0.5)\n",
    "\n",
    "def somaPar(numeros):\n",
    "    tot = 0\n",
    "    for i in numeros:\n",
    "        if i % 2 == 0:\n",
    "            tot += i\n",
    "    return tot\n",
    "\n",
    "print(f\"Os números sorteados foram \", end=\"\")\n",
    "sorteia()\n",
    "print(f\"e a soma dos pares é {somaPar(numeros)}.\")"
   ]
  }
 ],
 "metadata": {
  "kernelspec": {
   "display_name": ".venv",
   "language": "python",
   "name": "python3"
  },
  "language_info": {
   "codemirror_mode": {
    "name": "ipython",
    "version": 3
   },
   "file_extension": ".py",
   "mimetype": "text/x-python",
   "name": "python",
   "nbconvert_exporter": "python",
   "pygments_lexer": "ipython3",
   "version": "3.12.3"
  }
 },
 "nbformat": 4,
 "nbformat_minor": 5
}

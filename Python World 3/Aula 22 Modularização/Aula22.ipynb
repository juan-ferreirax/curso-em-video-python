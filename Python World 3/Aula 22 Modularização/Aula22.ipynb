{
 "cells": [
  {
   "cell_type": "markdown",
   "id": "44dd0bda",
   "metadata": {},
   "source": [
    "Aprendizados da aula"
   ]
  },
  {
   "cell_type": "code",
   "execution_count": 4,
   "id": "bed8df6f",
   "metadata": {},
   "outputs": [
    {
     "name": "stdout",
     "output_type": "stream",
     "text": [
      "--- Método 1: Importando o módulo 'calc' ---\n",
      "Usando o módulo 'calc' para o número 5:\n",
      "O fatorial é: 120\n",
      "O dobro é: 10\n",
      "O triplo é: 15\n",
      "--------------------\n"
     ]
    }
   ],
   "source": [
    "\"\"\"\n",
    "Programa principal que importa e utiliza as funções do módulo 'calc.py'.\n",
    "\"\"\"\n",
    "\n",
    "# --- Método 1: Importar o módulo inteiro ---\n",
    "# Você precisa usar o nome do módulo como prefixo para chamar as funções.\n",
    "# Ex: calc.calcular_dobro()\n",
    "from uteis import calc\n",
    "\n",
    "print(\"--- Método 1: Importando o módulo 'calc' ---\")\n",
    "\n",
    "numero1 = 5\n",
    "print(f\"Usando o módulo 'calc' para o número {numero1}:\")\n",
    "print(f\"O fatorial é: {calc.calcular_fatorial(numero1)}\")\n",
    "print(f\"O dobro é: {calc.calcular_dobro(numero1)}\")\n",
    "print(f\"O triplo é: {calc.calcular_triplo(numero1)}\")\n",
    "print(\"-\" * 20)"
   ]
  },
  {
   "cell_type": "markdown",
   "id": "a6abe42f",
   "metadata": {},
   "source": [
    "107. Modulo financeiro"
   ]
  },
  {
   "cell_type": "code",
   "execution_count": 1,
   "id": "845a98cb",
   "metadata": {},
   "outputs": [
    {
     "name": "stdout",
     "output_type": "stream",
     "text": [
      "Com o aumento de 10%: 110.00\n",
      "Com a redução de 20%: 80.00\n",
      "O dobro de 100.0 é 200.00\n",
      "A metade de 100.0 é 50.00\n"
     ]
    }
   ],
   "source": [
    "from mdl_107 import moeda\n",
    "\n",
    "valor = float(input(\"Informe o valor em R$: \"))\n",
    "\n",
    "print(f\"Com o aumento de 10%: {moeda.aumentar(valor, 10):.2f}\")\n",
    "print(f\"Com a redução de 20%: {moeda.diminuir(valor, 20):.2f}\")\n",
    "print(f\"O dobro de {valor} é {moeda.dobro(valor):.2f}\")\n",
    "print(f\"A metade de {valor} é {moeda.metade(valor):.2f}\")"
   ]
  },
  {
   "cell_type": "markdown",
   "id": "dc2d1690",
   "metadata": {},
   "source": [
    "108. Adição de def moeda(): no modulo moeda"
   ]
  },
  {
   "cell_type": "code",
   "execution_count": 4,
   "id": "9e1ee2d9",
   "metadata": {},
   "outputs": [
    {
     "name": "stdout",
     "output_type": "stream",
     "text": [
      "Com o aumento de 10%: R$ 137500,00\n",
      "Com a redução de 20%: R$ 100000,00\n",
      "O dobro de R$ 125000,00 é R$ 250000,00\n",
      "A metade de R$ 125000,00 é R$ 62500,00\n"
     ]
    }
   ],
   "source": [
    "from mdl_107 import moeda\n",
    "\n",
    "valor = float(input(\"Informe o valor em R$: \"))\n",
    "\n",
    "print(f\"Com o aumento de 10%: {moeda.moeda(moeda.aumentar(valor, 10))}\")\n",
    "print(f\"Com a redução de 20%: {moeda.moeda(moeda.diminuir(valor, 20))}\")\n",
    "print(f\"O dobro de {moeda.moeda(valor)} é {moeda.moeda(moeda.dobro(valor))}\")\n",
    "print(f\"A metade de {moeda.moeda(valor)} é {moeda.moeda(moeda.metade(valor))}\")"
   ]
  },
  {
   "cell_type": "markdown",
   "id": "6718f275",
   "metadata": {},
   "source": [
    "109. Resolução do 107 com parâmetro pra formatação"
   ]
  },
  {
   "cell_type": "code",
   "execution_count": 2,
   "id": "0ff41866",
   "metadata": {},
   "outputs": [
    {
     "name": "stdout",
     "output_type": "stream",
     "text": [
      "Com o aumento de 10%: 275000.0\n",
      "Com a redução de 20%: R$ 200000,00\n",
      "O dobro de R$ 250000,00 é R$ 500000,00\n",
      "A metade de R$ 250000,00 é R$ 125000,00\n"
     ]
    }
   ],
   "source": [
    "from mdl_107 import moeda\n",
    "\n",
    "valor = float(input(\"Informe o valor em R$: \"))\n",
    "\n",
    "print(f\"Com o aumento de 10%: {moeda.aumentar(valor, 10, False)}\")\n",
    "print(f\"Com a redução de 20%: {moeda.diminuir(valor, 20, True)}\")\n",
    "print(f\"O dobro de {moeda.moeda(valor)} é {moeda.dobro(valor, True)}\")\n",
    "print(f\"A metade de {moeda.moeda(valor)} é {moeda.metade(valor, True)}\")"
   ]
  },
  {
   "cell_type": "markdown",
   "id": "39dde356",
   "metadata": {},
   "source": [
    "110. Função resumo() dos valores"
   ]
  },
  {
   "cell_type": "code",
   "execution_count": 1,
   "id": "8a775c86",
   "metadata": {},
   "outputs": [
    {
     "name": "stdout",
     "output_type": "stream",
     "text": [
      "--------------------------------\n",
      "        RESUMO DO VALOR         \n",
      "--------------------------------\n",
      "Preço analisado:    R$ 12000,00\n",
      "Dobro do preço:     R$ 24000,00\n",
      "Metade do preço:    R$ 6000,00\n",
      "90% de aumento:     R$ 22800,00\n",
      "55% de redução:     R$ 5400,00\n",
      "--------------------------------\n"
     ]
    }
   ],
   "source": [
    "from mdl_107 import moeda\n",
    "\n",
    "valor = float(input(\"Informe o valor em R$: \"))\n",
    "moeda.resumo(valor, 90, 55)"
   ]
  },
  {
   "cell_type": "markdown",
   "id": "27da91b1",
   "metadata": {},
   "source": [
    "111. Fazer funcionar com outra organização de módulos"
   ]
  },
  {
   "cell_type": "code",
   "execution_count": 1,
   "id": "b4fa9771",
   "metadata": {},
   "outputs": [
    {
     "name": "stdout",
     "output_type": "stream",
     "text": [
      "--------------------------------\n",
      "        RESUMO DO VALOR         \n",
      "--------------------------------\n",
      "Preço analisado:    R$ 125000,00\n",
      "Dobro do preço:     R$ 250000,00\n",
      "Metade do preço:    R$ 62500,00\n",
      "90% de aumento:     R$ 237500,00\n",
      "55% de redução:     R$ 56250,00\n",
      "--------------------------------\n"
     ]
    }
   ],
   "source": [
    "from utilidadescev import moeda\n",
    "\n",
    "valor = float(input(\"Informe o valor em R$: \"))\n",
    "moeda.resumo(valor, 90, 55)"
   ]
  },
  {
   "cell_type": "markdown",
   "id": "6fdb86a2",
   "metadata": {},
   "source": [
    "112. Validação de entrada de inteiros"
   ]
  },
  {
   "cell_type": "code",
   "execution_count": 1,
   "id": "39d8da93",
   "metadata": {},
   "outputs": [
    {
     "name": "stdout",
     "output_type": "stream",
     "text": [
      "--------------------------------\n",
      "        RESUMO DO VALOR         \n",
      "--------------------------------\n",
      "Preço analisado:    R$ 12500,00\n",
      "Dobro do preço:     R$ 25000,00\n",
      "Metade do preço:    R$ 6250,00\n",
      "90% de aumento:     R$ 23750,00\n",
      "55% de redução:     R$ 5625,00\n",
      "--------------------------------\n"
     ]
    }
   ],
   "source": [
    "from utilidadescev import moeda\n",
    "from utilidadescev import dado\n",
    "\n",
    "valor = dado.leiaDinheiro(\"Informe o valor em R$: \")\n",
    "moeda.resumo(valor, 90, 55)"
   ]
  }
 ],
 "metadata": {
  "kernelspec": {
   "display_name": ".venv",
   "language": "python",
   "name": "python3"
  },
  "language_info": {
   "codemirror_mode": {
    "name": "ipython",
    "version": 3
   },
   "file_extension": ".py",
   "mimetype": "text/x-python",
   "name": "python",
   "nbconvert_exporter": "python",
   "pygments_lexer": "ipython3",
   "version": "3.12.3"
  }
 },
 "nbformat": 4,
 "nbformat_minor": 5
}

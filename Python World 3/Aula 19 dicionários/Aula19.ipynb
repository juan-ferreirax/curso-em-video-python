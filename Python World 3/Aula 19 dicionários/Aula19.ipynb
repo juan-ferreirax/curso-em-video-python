{
 "cells": [
  {
   "cell_type": "markdown",
   "id": "787497c5",
   "metadata": {},
   "source": [
    "Aprendizados da aula"
   ]
  },
  {
   "cell_type": "code",
   "execution_count": 3,
   "id": "fea0ab25",
   "metadata": {},
   "outputs": [
    {
     "name": "stdout",
     "output_type": "stream",
     "text": [
      "O campo Estado tem valor Minas\n",
      "O campo UF tem valor MG\n"
     ]
    }
   ],
   "source": [
    "# notebooks = {\"Acer\":\"Nitro V15\", \"Asus\":\"ROG Strix\", \"Dell\":\"G15\"}\n",
    "\n",
    "# for marca, modelo in notebooks.items():\n",
    "#     print(f\"O {modelo} é da marca {marca}\")\n",
    "\n",
    "brasil = []\n",
    "estados = {}\n",
    "\n",
    "while True:\n",
    "    estados[\"Estado\"] = input(\"Informe o estado: \").capitalize()\n",
    "    estados[\"UF\"] = input(\"Informe a sigla do estado(UF): \").upper()\n",
    "    brasil.append(estados.copy())\n",
    "\n",
    "    op = input(\"Deseja continuar?(S/N): \").upper()\n",
    "    if op == \"N\":\n",
    "        break\n",
    "for estados in brasil:\n",
    "    for estado, uf in estados.items():\n",
    "        print(f\"O campo {estado} tem valor {uf}\")\n"
   ]
  },
  {
   "cell_type": "markdown",
   "id": "21691e28",
   "metadata": {},
   "source": [
    "90. Média com dicionário"
   ]
  },
  {
   "cell_type": "code",
   "execution_count": 17,
   "id": "6b9ba3fa",
   "metadata": {},
   "outputs": [
    {
     "name": "stdout",
     "output_type": "stream",
     "text": [
      "nome: Juan\n",
      "média: 9.0\n",
      "situação: Aprovado\n"
     ]
    }
   ],
   "source": [
    "aluno = {}\n",
    "alunos = []\n",
    "\n",
    "while True:\n",
    "    aluno[\"nome\"] = input(\"Informe o nome do aluno: \").capitalize()\n",
    "    aluno[\"média\"] = float(input(\"Informe a média do aluno: \"))\n",
    "    if aluno[\"média\"] >= 6:\n",
    "        aluno[\"situação\"] = \"Aprovado\"\n",
    "    else:\n",
    "        aluno[\"situação\"] = \"Reprovado\"\n",
    "    alunos.append(aluno.copy())\n",
    "    op = input(\"Deseja continuar?(S/N): \").upper()\n",
    "    if op == \"N\":\n",
    "        break\n",
    "for aluno in alunos:\n",
    "    for k, v in aluno.items():\n",
    "        print(f\"{k}: {v}\")"
   ]
  },
  {
   "cell_type": "markdown",
   "id": "266680fb",
   "metadata": {},
   "source": [
    "91. 4 jogadores random"
   ]
  },
  {
   "cell_type": "code",
   "execution_count": 3,
   "id": "deb21ff6",
   "metadata": {},
   "outputs": [
    {
     "name": "stdout",
     "output_type": "stream",
     "text": [
      "Valores sorteados: \n",
      "O jogador1 jogador tirou 4\n",
      "O jogador2 jogador tirou 7\n",
      "O jogador3 jogador tirou 1\n",
      "O jogador4 jogador tirou 3\n",
      "Ranking dos jogadores: \n",
      "1º lugar: jogador2 com 7\n",
      "2º lugar: jogador1 com 4\n",
      "3º lugar: jogador4 com 3\n",
      "4º lugar: jogador3 com 1\n"
     ]
    }
   ],
   "source": [
    "from random import randint\n",
    "from time import sleep\n",
    "#from operator import itemgetter\n",
    "\n",
    "jogadores = {\"jogador1\": randint(1, 7), \"jogador2\": randint(1, 7), \"jogador3\": randint(1, 7), \"jogador4\": randint(1, 7)}\n",
    "\n",
    "print(\"Valores sorteados: \")\n",
    "for k, v in jogadores.items():\n",
    "    print(f\"O {k} jogador tirou {v}\")\n",
    "    sleep(0.5)\n",
    "print(\"Ranking dos jogadores: \")\n",
    "#Parâmetro key=lamda diz a função sorted por meio de uma função temporária\n",
    "#Para fazer a ordenação por meio do valor que o jogador tirou(item[1])\n",
    "#key=itemgetter(1)\n",
    "ordenados = sorted(jogadores.items(), key=lambda item: item[1], reverse=True )\n",
    "for i, (k, v) in enumerate(ordenados):\n",
    "    print(f\"{i + 1}º lugar: {k} com {v}\")"
   ]
  },
  {
   "cell_type": "markdown",
   "id": "e638abcc",
   "metadata": {},
   "source": [
    "92. CTPS - Carteira de Trabalho e Previdência Social"
   ]
  },
  {
   "cell_type": "code",
   "execution_count": 7,
   "id": "8a46a2a5",
   "metadata": {},
   "outputs": [
    {
     "name": "stdout",
     "output_type": "stream",
     "text": [
      "-=-=-=-=-=-=-=-=-=-=-=-=-=-=-=-=-=-=-=-=-=-=-=-=-=-=-=-=-=-=\n",
      "Nome: Juan\n",
      "Ano de Nascimento: 2004\n",
      "Idade: 21\n",
      "CTPS: 1234\n",
      "Ano de Contratação: 2023\n",
      "Salário: 2000.0\n",
      "Idade de Aposentadoria: 54\n"
     ]
    }
   ],
   "source": [
    "from datetime import datetime\n",
    "\n",
    "trabalhador = {}\n",
    "\n",
    "trabalhador[\"Nome\"] = input(\"Informe o nome: \").capitalize()\n",
    "trabalhador[\"Ano de Nascimento\"] = int(input(\"Informe o ano de nascimento: \"))\n",
    "trabalhador[\"Idade\"] = datetime.now().year - trabalhador[\"Ano de Nascimento\"]\n",
    "trabalhador[\"CTPS\"] = int(input(\"Informe a carteira(0 se não tiver): \"))\n",
    "\n",
    "if trabalhador[\"CTPS\"] != 0:\n",
    "    trabalhador[\"Ano de Contratação\"] = int(input(\"Informe o ano da contratação: \"))\n",
    "    trabalhador[\"Salário\"] = float(input(\"Informe o salário: \"))\n",
    "    trabalhador[\"Idade de Aposentadoria\"] = (trabalhador[\"Ano de Contratação\"] + 35) - trabalhador[\"Ano de Nascimento\"]\n",
    "print(\"-=\" * 30)\n",
    "for k, v in trabalhador.items():\n",
    "    print(f\"{k}: {v}\")\n",
    "\n"
   ]
  },
  {
   "cell_type": "markdown",
   "id": "6b0c8f1c",
   "metadata": {},
   "source": [
    "93. Gerenciamento de Aproveitamento de Jogador"
   ]
  },
  {
   "cell_type": "code",
   "execution_count": 8,
   "id": "67d09ff8",
   "metadata": {},
   "outputs": [
    {
     "name": "stdout",
     "output_type": "stream",
     "text": [
      "O jogador lucas jogou 3 partidas.\n",
      "=> Na 1ª partida fez 3 gols.\n",
      "=> Na 2ª partida fez 2 gols.\n",
      "=> Na 3ª partida fez 1 gols.\n",
      "Foi um total de 6 gols.\n"
     ]
    }
   ],
   "source": [
    "aproveitamento = {}\n",
    "gols = []\n",
    "\n",
    "aproveitamento[\"Nome\"] = input(\"Informe o nome do jogador: \")\n",
    "quant_partidas = int(input(\"Informe a quantidade de partidas: \"))\n",
    "\n",
    "for i in range(quant_partidas):\n",
    "    gols_partida = int(input(f\"Quantos gols foram feitos na {i + 1} partida? \"))\n",
    "    gols.append(gols_partida)\n",
    "aproveitamento[\"Gols\"] = gols\n",
    "aproveitamento[\"Total\"] = sum(gols)\n",
    "\n",
    "print(f\"O jogador {aproveitamento['Nome']} jogou {quant_partidas} partidas.\")\n",
    "for j, k in enumerate(aproveitamento[\"Gols\"]):\n",
    "    print(f\"=> Na {j + 1}ª partida fez {k} gols.\")\n",
    "print(f\"Foi um total de {aproveitamento['Total']} gols.\")\n",
    "\n"
   ]
  },
  {
   "cell_type": "markdown",
   "id": "a73eb971",
   "metadata": {},
   "source": [
    "94. Cadastro de Pessoas."
   ]
  },
  {
   "cell_type": "code",
   "execution_count": null,
   "id": "a8f1b183",
   "metadata": {},
   "outputs": [
    {
     "name": "stdout",
     "output_type": "stream",
     "text": [
      "-=-=-=-=-=-=-=-=-=-=-=-=-=-=-=-=-=-=-=-=\n",
      "Foram cadastradas 3 pessoas.\n",
      "A média de idade do grupo é de 33.33 anos.\n",
      "As mulheres do grupo são: Ana, Bia, \n",
      "As pessoas com idade acima da média são: \n",
      "- Ana com 40 anos.\n"
     ]
    }
   ],
   "source": [
    "pessoa = {}\n",
    "pessoas = []\n",
    "idade_total = 0\n",
    "mulheres = []\n",
    "\n",
    "while True:\n",
    "    pessoa[\"Nome\"] = input(\"Informe o nome: \").capitalize()\n",
    "    while True:\n",
    "        pessoa[\"Sexo\"] = input(\"Informe o sexo(M/F): \").upper()\n",
    "        if pessoa[\"Sexo\"] not in \"MF\":\n",
    "            print(\"Informe um sexo válido!\")\n",
    "        else:\n",
    "            break\n",
    "    pessoa[\"Idade\"] = int(input(\"Informe a idade: \"))\n",
    "    pessoas.append(pessoa.copy())\n",
    "    idade_total += pessoa[\"Idade\"]\n",
    "    média = idade_total / len(pessoas)\n",
    "\n",
    "    op = input(\"Deseja cadastrar mais alguém?(S/N): \").upper()[0]\n",
    "    if op == \"N\":\n",
    "        break\n",
    "\n",
    "print(\"-=\" * 20)\n",
    "print(f\"Foram cadastradas {len(pessoas)} pessoas.\")\n",
    "print(f\"A média de idade do grupo é de {média:.2f} anos.\")\n",
    "print(\"As mulheres do grupo são: \", end=\"\")\n",
    "for i in pessoas:\n",
    "    if i[\"Sexo\"] == \"F\":\n",
    "        print(i[\"Nome\"], end=\", \")\n",
    "print()\n",
    "print(\"As pessoas com idade acima da média são: \")\n",
    "for j in pessoas:\n",
    "    if j[\"Idade\"] > média:\n",
    "        print(f\"- {j[\"Nome\"]} com {j[\"Idade\"]} anos.\")\n",
    "\n"
   ]
  },
  {
   "cell_type": "markdown",
   "id": "de408579",
   "metadata": {},
   "source": [
    "95. Exercício 93 melhorado."
   ]
  },
  {
   "cell_type": "code",
   "execution_count": null,
   "id": "fd2b1b00",
   "metadata": {},
   "outputs": [
    {
     "name": "stdout",
     "output_type": "stream",
     "text": [
      "-=-=-=-=-=-=-=-=-=-=-=-=-=-=-=-=-=-=-=-=-=-=-=-=-=\n",
      "cod  nome              gols                  total\n",
      "--------------------------------------------------\n",
      " 1   Lucas            [2, 3, 1]                6              \n",
      " 2   Leo              [1, 1, 2, 3]             7              \n",
      " 3   Luan             [1, 2]                   3              \n",
      " 4   Luis             [2, 2, 1]                5              \n",
      "--------------------------------------------------\n",
      "--Levantamento do jogador Lucas: \n",
      "  Ele jogou 3 jogos.\n",
      "  No 1º jogo ele fez 2 gols.\n",
      "  No 2º jogo ele fez 3 gols.\n",
      "  No 3º jogo ele fez 1 gols.\n",
      "--------------------------------------------------\n",
      "--Levantamento do jogador Leo: \n",
      "  Ele jogou 4 jogos.\n",
      "  No 1º jogo ele fez 1 gols.\n",
      "  No 2º jogo ele fez 1 gols.\n",
      "  No 3º jogo ele fez 2 gols.\n",
      "  No 4º jogo ele fez 3 gols.\n",
      "--------------------------------------------------\n",
      "--Levantamento do jogador Luan: \n",
      "  Ele jogou 2 jogos.\n",
      "  No 1º jogo ele fez 1 gols.\n",
      "  No 2º jogo ele fez 2 gols.\n",
      "--------------------------------------------------\n",
      "--Levantamento do jogador Luis: \n",
      "  Ele jogou 3 jogos.\n",
      "  No 1º jogo ele fez 2 gols.\n",
      "  No 2º jogo ele fez 2 gols.\n",
      "  No 3º jogo ele fez 1 gols.\n",
      "--------------------------------------------------\n",
      "      << PROGRAMA ENCERRADO COM SUCESSSO! >>      \n",
      "--------------------------------------------------\n"
     ]
    }
   ],
   "source": [
    "# Lista de jogadores, cada um em um dicionário.\n",
    "jogadores = [] \n",
    "while True:\n",
    "    jogador = {}\n",
    "    gols = []\n",
    "    jogador[\"Nome\"] = input(\"Informe o nome do jogador: \").capitalize()\n",
    "    quant_partidas = int(input(\"Informe a quantidade de partidas: \"))\n",
    "\n",
    "    for i in range(quant_partidas):\n",
    "        gols_partida = int(input(f\"Quantos gols foram feitos na {i + 1} partida? \"))\n",
    "        gols.append(gols_partida)\n",
    "    jogador[\"Gols\"] = gols\n",
    "    jogador[\"Total\"] = sum(gols)\n",
    "    # Append do jogador na lista com copy(metodo para dicionário).\n",
    "    jogadores.append(jogador.copy()) \n",
    "    op = input(\"Deseja cadastrar mais algum jogador? (S/N): \").upper()\n",
    "    if op == \"N\":\n",
    "        print(\"-=\" * 25)\n",
    "        break\n",
    "# Formatação de strings com métodos xjust e center.\n",
    "print(\"cod\".ljust(5) + \"nome\".ljust(15) + \"gols\".center(10) + \"total\".rjust(20)) \n",
    "#Forçar a exibição.\n",
    "print(\"-\" * 50, flush=True) \n",
    "# Método enumerate pra capturar o indíce de cada elemento(jogador) na lista de jogadores.\n",
    "for j, k in enumerate(jogadores):\n",
    "    # \"k\" é o indicador para acesso ao dicionário, não usar [k] pois não é lista; j é o indíce do elemento.\n",
    "    # Construção da tabela de jogadores\n",
    "    print(f\" {j + 1}\".ljust(5) + f\"{k[\"Nome\"]}\".ljust(17) + f\"{k['Gols']}\".ljust(25) + f\"{k['Total']}\".ljust(15), flush=True)\n",
    "print(\"-\" * 50, flush=True)\n",
    "while True:\n",
    "    jog = int(input(\"Deseja ver as informações de qual jogador? (999 encerra)\"))\n",
    "    if jog == 999:\n",
    "        print(\"<< PROGRAMA ENCERRADO COM SUCESSSO! >>\".center(50))\n",
    "        print(\"-\" * 50, flush=True)\n",
    "        break\n",
    "    elif jog < 1 or jog > len(jogadores):\n",
    "        print(\"ERRO! Não existe jogador com esse código, tente novamente!\", flush=True)\n",
    "    else:\n",
    "        # Exibição dos dados detalhados do jogador selecionado\n",
    "        print(f\"--Levantamento do jogador {jogadores[jog - 1][\"Nome\"]}: \", flush=True)\n",
    "        print(f\"  Ele jogou {len(jogadores[jog - 1][\"Gols\"])} jogos.\")\n",
    "        # Aqui foi usado jogadores[x][\"label\"] pois se trata de uma LISTA DE DICIONÁRIOS, logo é permitido.\n",
    "        for l, m in enumerate(jogadores[jog - 1][\"Gols\"]):\n",
    "            print(f\"  No {l + 1}º jogo ele fez {m} gols.\")\n",
    "        print(\"-\" * 50, flush=True)\n"
   ]
  }
 ],
 "metadata": {
  "kernelspec": {
   "display_name": ".venv",
   "language": "python",
   "name": "python3"
  },
  "language_info": {
   "codemirror_mode": {
    "name": "ipython",
    "version": 3
   },
   "file_extension": ".py",
   "mimetype": "text/x-python",
   "name": "python",
   "nbconvert_exporter": "python",
   "pygments_lexer": "ipython3",
   "version": "3.12.3"
  }
 },
 "nbformat": 4,
 "nbformat_minor": 5
}

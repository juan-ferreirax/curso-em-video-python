{
 "cells": [
  {
   "cell_type": "markdown",
   "id": "1a870622",
   "metadata": {},
   "source": [
    "Momento prático da aula"
   ]
  },
  {
   "cell_type": "code",
   "execution_count": 6,
   "id": "3b7ee5ba",
   "metadata": {},
   "outputs": [
    {
     "name": "stdout",
     "output_type": "stream",
     "text": [
      "(1, 2, 3, 4, 5, 6, 4, 5, 6, 7, 8, 9)\n"
     ]
    }
   ],
   "source": [
    "# Tuplas são imutáveis\n",
    "# lanche[1] = \"Bolo\"\n",
    "# TypeError: 'tuple' object does not support item assignment\n",
    "# lanche = (\"Hámburguer\",\"Suco\",\"Pizza\",\"Pudim\",\"Bala\")\n",
    "# for c in range(0,len(lanche)):\n",
    "#     print(lanche[c])\n",
    "# print(\"Estou satisfeito!\")\n",
    "\n",
    "# for c in lanche:\n",
    "#     print(f\"Eu vou comer {c}.\")\n",
    "# print(\"Agora eu estou satisfeito!\")\n",
    "\n",
    "# for pos, c in enumerate(lanche):\n",
    "#     print(f\"Eu vou comer {c}.\")\n",
    "# print(\"Agora eu estou satisfeito!\")\n",
    "\n",
    "# print(sorted(lanche))\n",
    "#---------------------------------------\n",
    "a = (1,2,3,4,5,6)\n",
    "b = (4,5,6,7,8,9)\n",
    "c = a + b\n",
    "\n",
    "# print(c)\n",
    "# print(c.index(5,5)) #deslocamento\n",
    "# print(c.count(5))\n",
    "\n",
    "print(c)"
   ]
  },
  {
   "cell_type": "markdown",
   "id": "8c0ab95e",
   "metadata": {},
   "source": [
    "72. Exibição por extenso com tupla"
   ]
  },
  {
   "cell_type": "code",
   "execution_count": null,
   "id": "e559a922",
   "metadata": {},
   "outputs": [
    {
     "name": "stdout",
     "output_type": "stream",
     "text": [
      "Opção inválida, tente novamente!\n",
      "Você digitou o número quatro\n",
      "Informe uma opção válida!\n",
      "Programa finalizado com sucesso!\n"
     ]
    }
   ],
   "source": [
    "contagem = (\"zero\",\"um\",\"dois\",\"três\",\"quatro\",\n",
    "            \"cinco\",\"seis\",\"sete\",\"oito\",\"nove\",\n",
    "            \"dez\",\"onze\",\"doze\",\"treze\",\"quatorze\",\n",
    "            \"quinze\",\"dezesseis\",\"dezessete\",\"dezoito\",\n",
    "            \"dezenove\",\"vinte\")\n",
    "\n",
    "while True:\n",
    "    while True:\n",
    "        num = int(input(\"Digite um número de 0 a 20: \"))\n",
    "        if num < 0 or num > 20:\n",
    "            print(\"Opção inválida, tente novamente!\")\n",
    "        else:\n",
    "            print(f\"Você digitou o número {contagem[num]}\", flush=True)\n",
    "            break\n",
    "\n",
    "    while True:\n",
    "        op = input(\"Digite S para sair ou C para continuar...\").upper()\n",
    "        if op == \"S\":\n",
    "            print(\"Programa finalizado com sucesso!\")\n",
    "            break\n",
    "        elif op == \"C\":\n",
    "            break\n",
    "        else:\n",
    "            print(\"Informe uma opção válida!\")\n",
    "    if op == \"S\":\n",
    "        break"
   ]
  },
  {
   "cell_type": "markdown",
   "id": "26840761",
   "metadata": {},
   "source": [
    "73. Tabela do Brasileirão"
   ]
  },
  {
   "cell_type": "code",
   "execution_count": 114,
   "id": "eefabbfa",
   "metadata": {},
   "outputs": [
    {
     "name": "stdout",
     "output_type": "stream",
     "text": [
      "-=-=-=-=-=-=-=-=-=-=-=-=-=-=-=\n",
      "Os times do brasileirão são: ('Cruzeiro', 'Flamengo', 'Bragantino', 'Bahia', 'Palmeiras', 'Botafogo', 'Mirassol', 'Fluminense', 'Atlético-MG', 'Corinthians', 'Ceará', 'Internacional', 'Grêmio', 'São Paulo', 'Vitória', 'Vasco', 'Santos', 'Juventude', 'Fortaleza', 'Sport')\n",
      "-=-=-=-=-=-=-=-=-=-=-=-=-=-=-=\n",
      "Os 5 primeiros colcados são ('Cruzeiro', 'Flamengo', 'Bragantino', 'Bahia', 'Palmeiras')\n",
      "-=-=-=-=-=-=-=-=-=-=-=-=-=-=-=\n",
      "Os últimos 4 colocados da tabela são ('Santos', 'Juventude', 'Fortaleza', 'Sport')\n",
      "-=-=-=-=-=-=-=-=-=-=-=-=-=-=-=\n",
      "Times em ordem alfabética: ['Atlético-MG', 'Bahia', 'Botafogo', 'Bragantino', 'Ceará', 'Corinthians', 'Cruzeiro', 'Flamengo', 'Fluminense', 'Fortaleza', 'Grêmio', 'Internacional', 'Juventude', 'Mirassol', 'Palmeiras', 'Santos', 'Sport', 'São Paulo', 'Vasco', 'Vitória']\n",
      "-=-=-=-=-=-=-=-=-=-=-=-=-=-=-=\n",
      "O time do Chapecoense não se encontra na lista!\n"
     ]
    }
   ],
   "source": [
    "times = ('Cruzeiro', 'Flamengo', 'Bragantino', 'Bahia', 'Palmeiras',\n",
    "        'Botafogo', 'Mirassol', 'Fluminense', 'Atlético-MG', 'Corinthians',\n",
    "        'Ceará', 'Internacional', 'Grêmio', 'São Paulo', 'Vitória',\n",
    "        'Vasco', 'Santos', 'Juventude', 'Fortaleza', 'Sport')\n",
    "\n",
    "print(\"-=\" * 15)\n",
    "print(f\"Os times do brasileirão são: {times}\")\n",
    "print(\"-=\" * 15)\n",
    "print(f\"Os 5 primeiros colcados são {times[0:5]}\")\n",
    "print(\"-=\" * 15)\n",
    "print(f\"Os últimos 4 colocados da tabela são {times[16:20]}\")\n",
    "print(\"-=\" * 15)\n",
    "print(f\"Times em ordem alfabética: {sorted(times)}\")\n",
    "print(\"-=\" * 15)\n",
    "if \"Chapecoense\" in times:\n",
    "    print(f\"O time da Chapecoense está na {times.index(\"Chapecoense\") + 1}\")\n",
    "else:\n",
    "    print(\"O time do Chapecoense não se encontra na lista!\")\n",
    "    "
   ]
  },
  {
   "cell_type": "markdown",
   "id": "75306815",
   "metadata": {},
   "source": [
    "74. Geração da tupla com Random"
   ]
  },
  {
   "cell_type": "code",
   "execution_count": null,
   "id": "756f6d97",
   "metadata": {},
   "outputs": [
    {
     "name": "stdout",
     "output_type": "stream",
     "text": [
      "Os números gerados foram: (47, 67, 29, 36, 83)\n",
      "O menor valor é 29 e o maior é 83\n"
     ]
    }
   ],
   "source": [
    "import random\n",
    "\n",
    "tupla = (random.randint(0,100), random.randint(0,100), random.randint(0,100),\n",
    "         random.randint(0,100), random.randint(0,100))\n",
    "print(f\"Os números gerados foram: {tupla}\")\n",
    "print(f\"O menor valor é {min(tupla)} e o maior é {max(tupla)}\")"
   ]
  },
  {
   "cell_type": "markdown",
   "id": "d27eae20",
   "metadata": {},
   "source": [
    "75. \"Gravação\" e leitura de tupla"
   ]
  },
  {
   "cell_type": "code",
   "execution_count": 7,
   "id": "49f30b95",
   "metadata": {},
   "outputs": [
    {
     "name": "stdout",
     "output_type": "stream",
     "text": [
      "Foram informados os números: (4, 9, 2, 9)\n",
      "O valor 9 apareceu 2 vezes.\n",
      "O valor 3 não foi informado pelo usuário!\n",
      "Os valores pares são: 4 2 "
     ]
    }
   ],
   "source": [
    "#É possível inserir direto na tupla\n",
    "#E concatenar tuplas criando novas\n",
    "tupla = ()\n",
    "\n",
    "for i in range(0,4):\n",
    "    valor = int(input(\"Informe um valor: \"))\n",
    "    tupla = tupla + (valor,)\n",
    "print(f\"Foram informados os números: {tupla}\")\n",
    "if 3 or 9 in tupla:\n",
    "    if 9 in tupla:\n",
    "        print(f\"O valor 9 apareceu {tupla.count(9)} vezes.\")\n",
    "    else:\n",
    "        print(\"O valor 9 não foi informado pelo usuário!\")\n",
    "\n",
    "    if 3 in tupla:\n",
    "        print(f\"A primeira ocorrência do valor 3 foi na {tupla.index(3) + 1}º posição.\")\n",
    "    else:\n",
    "        print(\"O valor 3 não foi informado pelo usuário!\")\n",
    "    \n",
    "print(f\"Os valores pares são: \", end=\"\")\n",
    "for i in tupla:\n",
    "    if i % 2 == 0:\n",
    "        print(i, end=\" \")\n",
    "        \n",
    "    \n",
    "\n",
    "\n"
   ]
  },
  {
   "cell_type": "markdown",
   "id": "6f54af2d",
   "metadata": {},
   "source": [
    "76. Organização tabular dos produtos"
   ]
  },
  {
   "cell_type": "code",
   "execution_count": 21,
   "id": "48b1a3b8",
   "metadata": {},
   "outputs": [
    {
     "name": "stdout",
     "output_type": "stream",
     "text": [
      "=======================================\n",
      "           LISTAGEM DE PREÇOS          \n",
      "=======================================\n",
      "Leite.........................R$  15.00\n",
      "Bolacha.......................R$   4.75\n",
      "Carne.........................R$ 130.25\n",
      "Pão...........................R$   0.50\n",
      "Alface........................R$   2.50\n",
      "=======================================\n"
     ]
    }
   ],
   "source": [
    "mercado = (\"Leite\",15.00,\"Bolacha\",4.75,\"Carne\",130.25,\"Pão\",0.50,\"Alface\",2.50)\n",
    "print(\"=\" * 39)\n",
    "print(\"LISTAGEM DE PREÇOS\".center(39,\" \"))\n",
    "print(\"=\" * 39)\n",
    "\n",
    "for i in range(0, len(mercado), 2):\n",
    "    print(f\"{mercado[i]}\".ljust(30,\".\") + \"R$\" + f\"{mercado[i + 1]:.2f}\".rjust(7))\n",
    "print(\"=\" * 39)"
   ]
  },
  {
   "cell_type": "markdown",
   "id": "1e9163de",
   "metadata": {},
   "source": [
    "77. Vogais nas palavras"
   ]
  },
  {
   "cell_type": "code",
   "execution_count": 23,
   "id": "3fa0890a",
   "metadata": {},
   "outputs": [
    {
     "name": "stdout",
     "output_type": "stream",
     "text": [
      "\n",
      "As vogais da palavra AMIGO são: a i o \n",
      "As vogais da palavra CASA são: a a \n",
      "As vogais da palavra LIVRO são: i o \n",
      "As vogais da palavra MESA são: e a \n",
      "As vogais da palavra PORTA são: o a \n",
      "As vogais da palavra TEMPO são: e o \n",
      "As vogais da palavra MUNDO são: u o \n",
      "As vogais da palavra FESTA são: e a \n",
      "As vogais da palavra ABRIR são: a i \n",
      "As vogais da palavra FALAR são: a a \n",
      "As vogais da palavra COMER são: o e \n",
      "As vogais da palavra BEBER são: e e \n",
      "As vogais da palavra VIVER são: i e \n",
      "As vogais da palavra CAMPO são: a o \n",
      "As vogais da palavra ANIMAL são: a i a "
     ]
    }
   ],
   "source": [
    "palavras = (\"amigo\", \"casa\", \"livro\", \"mesa\", \"porta\",\n",
    "            \"tempo\", \"mundo\", \"festa\", \"abrir\", \"falar\",\n",
    "            \"comer\", \"beber\", \"viver\", \"campo\", \"animal\")\n",
    "\n",
    "for palavra in palavras:\n",
    "    print(f\"\\nAs vogais da palavra {palavra.upper()} são: \", end=\"\")\n",
    "    for letra in palavra:\n",
    "        if letra.lower() in \"aeiou\":\n",
    "            print(letra, end=\" \")"
   ]
  }
 ],
 "metadata": {
  "kernelspec": {
   "display_name": ".venv",
   "language": "python",
   "name": "python3"
  },
  "language_info": {
   "codemirror_mode": {
    "name": "ipython",
    "version": 3
   },
   "file_extension": ".py",
   "mimetype": "text/x-python",
   "name": "python",
   "nbconvert_exporter": "python",
   "pygments_lexer": "ipython3",
   "version": "3.12.3"
  }
 },
 "nbformat": 4,
 "nbformat_minor": 5
}

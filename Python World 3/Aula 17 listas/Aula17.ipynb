{
 "cells": [
  {
   "cell_type": "markdown",
   "id": "eb1b405e",
   "metadata": {},
   "source": [
    "Momento prático da aula"
   ]
  },
  {
   "cell_type": "code",
   "execution_count": null,
   "id": "a4b9f64e",
   "metadata": {},
   "outputs": [
    {
     "name": "stdout",
     "output_type": "stream",
     "text": [
      "O valor 3 está na posição 1\n",
      "O valor 2 está na posição 2\n",
      "O valor 1 está na posição 3\n",
      "O valor 4 está na posição 4\n",
      "O valor 5 está na posição 5\n",
      "Fim da lista!\n"
     ]
    }
   ],
   "source": [
    "# lista = [0,1,2,3,4,5,6,7,8,9,\"banana\"]\n",
    "# alfa = [\"a\",\"c\",\"b\",\"e\",\"d\"]\n",
    "# a = [1,2,3]\n",
    "# b = [4,5,6]\n",
    "# a = b[:] # a = b faz a apontar para o valor de b, a = b[:] faz a receber uma cópia de b\n",
    "# print(a)\n",
    "# print(b)\n",
    "\n",
    "# print(lista)\n",
    "# valores = list(range(0,11))\n",
    "# print(valores)\n",
    "# valores.sort(reverse=True)\n",
    "# print(valores)\n",
    "# print(max(valores))\n",
    "# print(min(valores))\n",
    "# print(len(alfa))\n",
    "# alfa.sort()\n",
    "# alfa.insert(len(alfa), \"f\")\n",
    "# print(alfa)\n",
    "# # del lista[0] #remove pelo indíce\n",
    "# # lista.remove(\"banana\") #remove pelo valor, remove a primeira ocorrência\n",
    "# lista.pop(10) #remove pelo indíce, por padrão o último, e retorna o valor removido\n",
    "\n",
    "valoress = []\n",
    "for i in range(0,5):\n",
    "    valoress.append(int(input(\"Informe um número: \")))\n",
    "\n",
    "for c, v in enumerate(valoress):\n",
    "    print(f\"O valor {v} está na posição {c + 1}\")\n",
    "print(\"Fim da lista!\")"
   ]
  },
  {
   "cell_type": "markdown",
   "id": "a3b0ff00",
   "metadata": {},
   "source": [
    "78. Tamanho e posição dos inteiros na lista"
   ]
  },
  {
   "cell_type": "code",
   "execution_count": null,
   "id": "2c0b6fdf",
   "metadata": {},
   "outputs": [
    {
     "name": "stdout",
     "output_type": "stream",
     "text": [
      "Os valores informados foram: [4, 1, 1, 6, 6]\n",
      "O maior valor informado foi 6 na(s) posição(es) 4...5...\n",
      "O menor valor informado foi 1 na(s) posição(es) 2...3..."
     ]
    }
   ],
   "source": [
    "# valores = []\n",
    "# for i in range(0,5):\n",
    "#     valor = int(input(\"Informe um valor: \"))\n",
    "#     valores.append(valor)\n",
    "# print(f\"A lista com os valores informados foram: {valores}\")\n",
    "# print(f\"O maior valor digitado foi {max(valores)} na {valores.index(max(valores)) + 1}º posição.\")\n",
    "# print(f\"O menor valor digitado foi {min(valores)} na {valores.index(min(valores)) + 1}º posição.\")\n",
    "\n",
    "lista = []\n",
    "maior = []\n",
    "menor = []\n",
    "\n",
    "for i in range(0,5):\n",
    "    lista.append(int(input(f\"Informe um valor para a {i + 1} posição: \")))\n",
    "    if i == 0:\n",
    "        maior = menor = lista[i]\n",
    "    elif lista[i] > maior:\n",
    "        maior = lista[i]\n",
    "    elif lista[i] < menor:\n",
    "        menor = lista[i]\n",
    "print(f\"Os valores informados foram: {lista}\")\n",
    "print(f\"O maior valor informado foi {maior} na(s) posição(es) \", end=\"\")\n",
    "for p, j in enumerate(lista):\n",
    "    if j == maior:\n",
    "        print(p + 1, end=\"...\")\n",
    "print(f\"\\nO menor valor informado foi {menor} na(s) posição(es) \", end=\"\")\n",
    "for p, k in enumerate(lista):\n",
    "    if k == menor:\n",
    "        print(p + 1, end=\"...\")\n",
    "        "
   ]
  },
  {
   "cell_type": "markdown",
   "id": "e01613bb",
   "metadata": {},
   "source": [
    "79. Cadastro e ordem crescente da lista"
   ]
  },
  {
   "cell_type": "code",
   "execution_count": 1,
   "id": "7b304f78",
   "metadata": {},
   "outputs": [
    {
     "name": "stdout",
     "output_type": "stream",
     "text": [
      "Valor 9 não adicionado, ele já existe na lista!\n",
      "Valor 3 não adicionado, ele já existe na lista!\n",
      "A lista em ordem crescente é: [3, 6, 7, 9]\n"
     ]
    }
   ],
   "source": [
    "valores = []\n",
    "\n",
    "while True:\n",
    "    valor = int(input(\"Informe uma valor: \"))\n",
    "    if valor not in valores:\n",
    "        valores.append(valor)\n",
    "    else:\n",
    "        print(f\"Valor {valor} não adicionado, ele já existe na lista!\")\n",
    "    \n",
    "    while True:\n",
    "        op = input(\"Deseja continuar?(S/N): \").upper()\n",
    "        if op in [\"S\", \"N\"]:\n",
    "            break\n",
    "        else:\n",
    "            pass\n",
    "    if op == \"N\":\n",
    "        break\n",
    "print(f\"A lista em ordem crescente é: {sorted(valores)}\")"
   ]
  },
  {
   "cell_type": "markdown",
   "id": "23a35bed",
   "metadata": {},
   "source": [
    "80. Ordenação sem sort( )"
   ]
  },
  {
   "cell_type": "code",
   "execution_count": null,
   "id": "19693fd8",
   "metadata": {},
   "outputs": [
    {
     "name": "stdout",
     "output_type": "stream",
     "text": [
      "Lista ordenada: 0 1 3 4 8 "
     ]
    }
   ],
   "source": [
    "lista = []\n",
    "\n",
    "for i in range(0,5):\n",
    "    valor = int(input(\"Informe um valor: \"))\n",
    "    if i == 0:\n",
    "        lista.append(valor)\n",
    "    elif valor > max(lista):\n",
    "        lista.append(valor)\n",
    "    elif valor < min(lista):\n",
    "        lista.insert(0, valor)\n",
    "    elif valor > min(lista) and valor < max(lista):\n",
    "        for j in range(0, len(lista) - 1):\n",
    "            if valor > lista[j] and valor < lista[j + 1]:\n",
    "                if valor not in lista:\n",
    "                    lista.insert(j + 1, valor)\n",
    "print(\"Lista ordenada: \", end=\"\")\n",
    "for k in lista:\n",
    "    print(k, end=\" \")"
   ]
  },
  {
   "cell_type": "markdown",
   "id": "cdf26c92",
   "metadata": {},
   "source": [
    "81. Operação nas listas"
   ]
  },
  {
   "cell_type": "code",
   "execution_count": 10,
   "id": "a1d75eb0",
   "metadata": {},
   "outputs": [
    {
     "name": "stdout",
     "output_type": "stream",
     "text": [
      "Foram digitados 6 números\n",
      "Lista decrescente: [5, 4, 3, 2, 2, 1]\n",
      "O valor 5 foi digitado e está na lista\n"
     ]
    }
   ],
   "source": [
    "valores = []\n",
    "while True:\n",
    "    valor = int(input(\"Informe um valor: \"))\n",
    "    valores.append(valor)\n",
    "\n",
    "    while True:\n",
    "        op = input(\"Deseja continuar?(S/N): \").upper()\n",
    "        if op in [\"S\", \"N\"]:\n",
    "            break\n",
    "        else:\n",
    "            print(\"Esse valor já existe na lista!\")\n",
    "    if op == \"N\":\n",
    "        break\n",
    "print(f\"Foram digitados {len(valores)} números\")\n",
    "valores.sort(reverse=True)\n",
    "print(f\"Lista decrescente: {valores}\")\n",
    "if 5 in valores:\n",
    "    print(f\"O valor 5 foi digitado e está na lista\")\n",
    "else:\n",
    "    print(f\"O valor 5 não foi digitado e não está na lista\")\n"
   ]
  },
  {
   "cell_type": "markdown",
   "id": "9a6c1fda",
   "metadata": {},
   "source": [
    "82. Par e ímpar com listas"
   ]
  },
  {
   "cell_type": "code",
   "execution_count": 115,
   "id": "57579767",
   "metadata": {},
   "outputs": [
    {
     "name": "stdout",
     "output_type": "stream",
     "text": [
      "A lista é: [1, 2, 3, 4, 5, 6]\n",
      "Os pares são: [2, 4, 6]\n",
      "Os impares são: [1, 3, 5]\n"
     ]
    }
   ],
   "source": [
    "lista = []\n",
    "pares = []\n",
    "impares = []\n",
    "\n",
    "while True:\n",
    "    valor = int(input(\"Informe um valor: \"))\n",
    "    lista.append(valor)\n",
    "\n",
    "    while True:\n",
    "        op = input(\"Deseja continuar?(S/N): \").upper()\n",
    "        if op in [\"S\", \"N\"]:\n",
    "            break\n",
    "        else: \n",
    "            pass\n",
    "    if op == \"N\":\n",
    "        break\n",
    "\n",
    "for i in lista:\n",
    "    if i % 2 == 0:\n",
    "        pares.append(i)\n",
    "    elif i % 2 == 1:\n",
    "        impares.append(i)\n",
    "print(f\"A lista é: {lista}\")\n",
    "print(f\"Os pares são: {pares}\")\n",
    "print(f\"Os impares são: {impares}\")\n"
   ]
  },
  {
   "cell_type": "markdown",
   "id": "a70f0378",
   "metadata": {},
   "source": [
    "83. Validação de espressão"
   ]
  },
  {
   "cell_type": "code",
   "execution_count": 8,
   "id": "630a4956",
   "metadata": {},
   "outputs": [
    {
     "name": "stdout",
     "output_type": "stream",
     "text": [
      "Expressão válida!\n"
     ]
    }
   ],
   "source": [
    "stack = []\n",
    "\n",
    "expression = input(\"Informe uma expressão: \")\n",
    "for i in expression:\n",
    "    if i == \"(\":\n",
    "        stack.append(\"(\")\n",
    "    elif i == \")\":\n",
    "        if len(stack) > 0:\n",
    "            stack.pop()\n",
    "        else:\n",
    "            stack.append(\")\")\n",
    "            break\n",
    "if len(stack) == 0:\n",
    "    print(\"Expressão válida!\")\n",
    "else:\n",
    "    print(\"Expressão inválida!\")"
   ]
  }
 ],
 "metadata": {
  "kernelspec": {
   "display_name": ".venv",
   "language": "python",
   "name": "python3"
  },
  "language_info": {
   "codemirror_mode": {
    "name": "ipython",
    "version": 3
   },
   "file_extension": ".py",
   "mimetype": "text/x-python",
   "name": "python",
   "nbconvert_exporter": "python",
   "pygments_lexer": "ipython3",
   "version": "3.12.3"
  }
 },
 "nbformat": 4,
 "nbformat_minor": 5
}

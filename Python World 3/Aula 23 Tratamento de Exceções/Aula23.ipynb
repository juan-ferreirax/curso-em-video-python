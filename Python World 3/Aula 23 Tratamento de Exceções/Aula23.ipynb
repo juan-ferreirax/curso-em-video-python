{
 "cells": [
  {
   "cell_type": "markdown",
   "id": "2e51b8a4",
   "metadata": {},
   "source": [
    "Aprendizados da aula"
   ]
  },
  {
   "cell_type": "code",
   "execution_count": null,
   "id": "9cad3fc6",
   "metadata": {},
   "outputs": [],
   "source": [
    "try:\n",
    "    num1 = int(input(\"Informe um número: \"))\n",
    "    num2 = int(input(\"Informe um número: \"))\n",
    "    num3 = num1 / num2\n",
    "except KeyboardInterrupt:\n",
    "    print(\"O usuário preferiu não informar os dados!\")\n",
    "except (ValueError, TypeError):\n",
    "    print(\"Não foi informado um valor inteiro ou numérico!\")\n",
    "except ZeroDivisionError:\n",
    "    print(\"Não é possível dividir um número por 0!\")\n",
    "else:\n",
    "    print(f\"O resultado da divisão de {num1} por {num2} é {num3}\")\n",
    "finally:\n",
    "    print(\"Volte sempre!\")"
   ]
  },
  {
   "cell_type": "markdown",
   "id": "bfc5d73f",
   "metadata": {},
   "source": [
    "113. Exercício 104 melhorado"
   ]
  },
  {
   "cell_type": "code",
   "execution_count": 4,
   "id": "8df058cc",
   "metadata": {},
   "outputs": [
    {
     "name": "stdout",
     "output_type": "stream",
     "text": [
      "\u001b[37mO valor inteiro informado foi 5 e o valor real foi 8.0\n"
     ]
    }
   ],
   "source": [
    "from ex113_inputs import checkInput\n",
    "\n",
    "numI = checkInput.leiaInt(\"Informe um número inteiro: \")\n",
    "numR = checkInput.leiaFloat(\"Informe um número real: \")\n",
    "print(f\"{checkInput.white}O valor inteiro informado foi {numI} e o valor real foi {numR}\")"
   ]
  },
  {
   "cell_type": "markdown",
   "id": "91f3980c",
   "metadata": {},
   "source": [
    "114. Verificação de conexão via socket"
   ]
  },
  {
   "cell_type": "code",
   "execution_count": 7,
   "id": "b751c16a",
   "metadata": {},
   "outputs": [
    {
     "name": "stdout",
     "output_type": "stream",
     "text": [
      "Acessando www.pudim.com...\n",
      "\u001b[32mConexão realizada com sucesso!\n"
     ]
    }
   ],
   "source": [
    "from ex114_conection import checkConection, checkInput\n",
    "\n",
    "domain = input(\"Informe um domínio no formato(www.google.com): \")\n",
    "port = checkInput.leiaInt(\"Informe a porta que será usada para acesso: \")\n",
    "checkConection.acess_domain(domain, port)"
   ]
  },
  {
   "cell_type": "markdown",
   "id": "236653af",
   "metadata": {},
   "source": [
    "115. Mini sistema de cadastro de pessoas"
   ]
  },
  {
   "cell_type": "markdown",
   "id": "7ad4f090",
   "metadata": {},
   "source": [
    "Feito em arquivo.py dedicado"
   ]
  }
 ],
 "metadata": {
  "kernelspec": {
   "display_name": ".venv",
   "language": "python",
   "name": "python3"
  },
  "language_info": {
   "codemirror_mode": {
    "name": "ipython",
    "version": 3
   },
   "file_extension": ".py",
   "mimetype": "text/x-python",
   "name": "python",
   "nbconvert_exporter": "python",
   "pygments_lexer": "ipython3",
   "version": "3.12.3"
  }
 },
 "nbformat": 4,
 "nbformat_minor": 5
}

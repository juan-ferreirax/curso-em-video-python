{
 "cells": [
  {
   "cell_type": "markdown",
   "id": "848b6b2b",
   "metadata": {},
   "source": [
    "Aprendizado da aula"
   ]
  },
  {
   "cell_type": "code",
   "execution_count": 63,
   "id": "8d063f0d",
   "metadata": {},
   "outputs": [
    {
     "name": "stdout",
     "output_type": "stream",
     "text": [
      "[['juan', 20], ['ana', 23], ['julio', 24]]\n",
      "juan é menor de idade\n",
      "ana é maior de idade\n",
      "julio é maior de idade\n",
      "Total de maior: 2\n",
      "Total de menor: 1\n"
     ]
    }
   ],
   "source": [
    "# pessoas = [[\"Pedro\", 25],[\"Maria\", 19],[\"João\", 32]]\n",
    "# print(pessoas[2])\n",
    "# nomes = [pessoa[0] for pessoa in pessoas]\n",
    "# idade = [pessoa[1] for pessoa in pessoas]\n",
    "# print(nomes)\n",
    "# print(idade)\n",
    "\n",
    "# pessoas = []\n",
    "# pessoas.append(\"Juan\")\n",
    "# pessoas.append(20)\n",
    "# galera = []\n",
    "# galera.append(pessoas[:])\n",
    "# pessoas[0] = \"Mozer\"\n",
    "# pessoas[1] = 21\n",
    "# galera.append(pessoas)\n",
    "# print(galera)\n",
    "\n",
    "galera = []\n",
    "dado = []\n",
    "totmaior = 0\n",
    "totmenor = 0\n",
    "\n",
    "for i in range(0,3):\n",
    "    dado.append(input(\"Informe seu nome: \"))\n",
    "    dado.append(int(input(\"Informe sua idade: \")))\n",
    "    galera.append(dado[:])\n",
    "    dado.clear()\n",
    "print(galera)\n",
    "\n",
    "for pessoa in galera:\n",
    "    if pessoa[1] > 21:\n",
    "        print(f\"{pessoa[0]} é maior de idade\")\n",
    "        totmaior += 1\n",
    "    else:\n",
    "        print(f\"{pessoa[0]} é menor de idade\")\n",
    "        totmenor += 1\n",
    "\n",
    "print(f\"Total de maior: {totmaior}\")\n",
    "print(f\"Total de menor: {totmenor}\")\n",
    "\n"
   ]
  },
  {
   "cell_type": "markdown",
   "id": "cb7b8d8f",
   "metadata": {},
   "source": [
    "84. Nome e peso numa lista de listas"
   ]
  },
  {
   "cell_type": "code",
   "execution_count": 71,
   "id": "3ba881ac",
   "metadata": {},
   "outputs": [
    {
     "name": "stdout",
     "output_type": "stream",
     "text": [
      "Foram cadastradas 4 pessoas.\n",
      "As pessoas mais pesadas são: leo lucas \n",
      "As pessoas mais leves são: juan kaio "
     ]
    }
   ],
   "source": [
    "pessoas = []\n",
    "pessoa = []\n",
    "while True:\n",
    "    pessoa.append(input(\"Informe seu nome: \"))\n",
    "    pessoa.append(float(input(\"Informe seu peso: \")))\n",
    "    pessoas.append(pessoa[:])\n",
    "    pessoa.clear()\n",
    "    op = input(\"Deseja continuar?(S/N): \").upper()\n",
    "    if op == \"N\":\n",
    "        break\n",
    "    else:\n",
    "        pass\n",
    "print(f\"Foram cadastradas {len(pessoas)} pessoas.\")\n",
    "print(f\"As pessoas mais pesadas são: \", end=\"\")\n",
    "for pessoa in pessoas:\n",
    "    if pessoa[1] >= 80:\n",
    "        print(pessoa[0], end=\" \")\n",
    "print(f\"\\nAs pessoas mais leves são: \", end=\"\")\n",
    "for pessoa in pessoas:\n",
    "    if pessoa[1] <= 60:\n",
    "        print(pessoa[0], end=\" \")"
   ]
  },
  {
   "cell_type": "markdown",
   "id": "34ef8b87",
   "metadata": {},
   "source": [
    "85. pares e impares lista unica"
   ]
  },
  {
   "cell_type": "code",
   "execution_count": null,
   "id": "a2637438",
   "metadata": {},
   "outputs": [
    {
     "name": "stdout",
     "output_type": "stream",
     "text": [
      "Os numeros pares são: [2, 8]\n",
      "Os números ímpares são: [1, 3, 5, 7, 9]\n"
     ]
    }
   ],
   "source": [
    "numeros = [[], []]\n",
    "\n",
    "for i in range(0,7):\n",
    "    valor = int(input(f\"Informe o {i + 1} valor: \"))\n",
    "    if valor % 2 == 0:\n",
    "        numeros[0].append(valor)\n",
    "    elif valor % 2 == 1:\n",
    "        numeros[1].append(valor)\n",
    "numeros[0].sort()\n",
    "numeros[1].sort()\n",
    "print(f\"Os numeros pares são: {numeros[0]}\")\n",
    "print(f\"Os números ímpares são: {numeros[1]}\")\n"
   ]
  },
  {
   "cell_type": "markdown",
   "id": "e94c8055",
   "metadata": {},
   "source": [
    "86. Matriz"
   ]
  },
  {
   "cell_type": "code",
   "execution_count": 2,
   "id": "346fdd46",
   "metadata": {},
   "outputs": [
    {
     "name": "stdout",
     "output_type": "stream",
     "text": [
      "[1] [2] [3] \n",
      "\n",
      "[4] [5] [6] \n",
      "\n",
      "[7] [8] [9] \n",
      "\n"
     ]
    }
   ],
   "source": [
    "matrizes = [[],[],[]]\n",
    "count = 0\n",
    "for i in range(0,3):\n",
    "    for j in range(0,3):\n",
    "        valor = int(input(f\"Informe o valor na posição[{i},{j}]: \"))\n",
    "        count += 1\n",
    "        if count <= 3:\n",
    "            matrizes[0].append(valor)\n",
    "        elif count <= 6:\n",
    "            matrizes[1].append(valor)\n",
    "        elif count <= 9:\n",
    "            matrizes[2].append(valor)\n",
    "for matriz in matrizes:\n",
    "    for v in matriz:\n",
    "        print(f\"[{v}]\", end=\" \")\n",
    "    print(\"\\n\")\n"
   ]
  },
  {
   "cell_type": "markdown",
   "id": "3321edef",
   "metadata": {},
   "source": [
    "87. Análise da matriz"
   ]
  },
  {
   "cell_type": "code",
   "execution_count": 4,
   "id": "f72c3392",
   "metadata": {},
   "outputs": [
    {
     "name": "stdout",
     "output_type": "stream",
     "text": [
      "[3] [2] [8] \n",
      "\n",
      "[7] [4] [3] \n",
      "\n",
      "[6] [7] [1] \n",
      "\n",
      "A soma de todos os valores pares digitados é: 20\n",
      "A soma dos valores da terceira coluna é: 12\n",
      "O maior valor da segunda linha é: 7\n"
     ]
    }
   ],
   "source": [
    "matrizes = [[],[],[]]\n",
    "count = 0\n",
    "sumpar = 0\n",
    "for i in range(0,3):\n",
    "    for j in range(0,3):\n",
    "        valor = int(input(f\"Informe o valor na posição[{i},{j}]: \"))\n",
    "        count += 1\n",
    "        if count <= 3:\n",
    "            matrizes[0].append(valor)\n",
    "        elif count <= 6:\n",
    "            matrizes[1].append(valor)\n",
    "        elif count <= 9:\n",
    "            matrizes[2].append(valor)\n",
    "for matriz in matrizes:\n",
    "    for v in matriz:\n",
    "        print(f\"[{v}]\", end=\" \")\n",
    "        if v % 2 == 0:\n",
    "            sumpar = sumpar + v\n",
    "    print(\"\\n\")\n",
    "print(f\"A soma de todos os valores pares digitados é: {sumpar}\")\n",
    "print(f\"A soma dos valores da terceira coluna é: {matrizes[0][2] + matrizes[1][2] + matrizes[2][2]}\")\n",
    "print(f\"O maior valor da segunda linha é: {max(matrizes[1])}\")\n",
    "\n"
   ]
  },
  {
   "cell_type": "markdown",
   "id": "2e43e723",
   "metadata": {},
   "source": [
    "88. Palpites mega sena"
   ]
  },
  {
   "cell_type": "code",
   "execution_count": 9,
   "id": "3301fb6f",
   "metadata": {},
   "outputs": [
    {
     "name": "stdout",
     "output_type": "stream",
     "text": [
      "Palpites do jogo 1: [13] [20] [26] [27] [43] [53]  \n",
      "Palpites do jogo 2: [4] [5] [31] [41] [47] [52]  \n",
      "Palpites do jogo 3: [1] [3] [19] [20] [47] [57]  \n",
      "Palpites do jogo 4: [8] [22] [35] [39] [51] [55]  \n",
      "Palpites do jogo 5: [19] [24] [25] [32] [37] [55]  \n"
     ]
    }
   ],
   "source": [
    "from time import sleep\n",
    "from random import sample\n",
    "\n",
    "jogos = []\n",
    "quantjogos = int(input(\"Quantos jogos serão gerados? \"))\n",
    "for i in range(0, quantjogos):\n",
    "    jogo = sample(range(1,61), 6)\n",
    "    jogo.sort()\n",
    "    jogos.append(jogo)\n",
    "\n",
    "for j, jogo in enumerate(jogos):\n",
    "    print(f\"Palpites do jogo {j + 1}: \", end=\"\")\n",
    "    for palpite in jogo:\n",
    "        print(f\"[{palpite}]\", end=\" \")\n",
    "    print(\" \")   \n",
    "    sleep(1)"
   ]
  },
  {
   "cell_type": "markdown",
   "id": "8cef361f",
   "metadata": {},
   "source": [
    "89. Notas dos alunos"
   ]
  },
  {
   "cell_type": "code",
   "execution_count": 231,
   "id": "159024e7",
   "metadata": {},
   "outputs": [
    {
     "name": "stdout",
     "output_type": "stream",
     "text": [
      "=-=-=-=-=-=-=-=-=-=-=-=-=-=-=-\n",
      "       BOLETIM ESCOLAR        \n",
      "=-=-=-=-=-=-=-=-=-=-=-=-=-=-=-\n",
      "Nº   Nome              Média\n",
      "------------------------------\n",
      "0    Juan...............9.5\n",
      "1    Ana................8.5\n",
      "2    Pedro..............8.0\n",
      "------------------------------\n",
      "As notas de Juan são 10.0 e 9.0\n",
      "As notas de Ana são 9.0 e 8.0\n",
      "As notas de Pedro são 9.0 e 7.0\n"
     ]
    }
   ],
   "source": [
    "alunos = []\n",
    "aluno = []\n",
    "\n",
    "while True:\n",
    "    aluno.append(input(\"Informe o nome: \").capitalize())\n",
    "    aluno.append(float(input(\"Informe a 1º nota: \")))\n",
    "    aluno.append(float(input(\"Informe a 2º nota: \")))\n",
    "    aluno.append((aluno[1] + aluno[2]) / 2)\n",
    "    alunos.append(aluno[:])\n",
    "    aluno.clear()\n",
    "\n",
    "    op = input(\"Deseja continuar(S/N): \").upper()\n",
    "    if op == \"N\":\n",
    "        break\n",
    "    else:\n",
    "        pass\n",
    "\n",
    "print(\"=-\" * 15)\n",
    "print(\"BOLETIM ESCOLAR\".center(30, \" \"))\n",
    "print(\"=-\" * 15)\n",
    "print(f\"Nº\".ljust(5) + \"Nome\".ljust(10) + \"Média\".rjust(13))\n",
    "print(\"-\" * 30)\n",
    "\n",
    "for n, aluno in enumerate(alunos):\n",
    "    print(f\"{n}\".ljust(5) + f\"{aluno[0]}\".ljust(10, \".\") + f\"{aluno[3]}\".rjust(12, \".\",), flush=True)\n",
    "print(\"-\" * 30)\n",
    "while True:\n",
    "    a = int(input(\"Deseja exibir as notas de qual aluno?(999 interrompe): \"))\n",
    "    if a == 999:\n",
    "        break\n",
    "    else:\n",
    "        print(f\"As notas de {alunos[a][0]} são {alunos[a][1]} e {alunos[a][2]}\", flush=True)"
   ]
  }
 ],
 "metadata": {
  "kernelspec": {
   "display_name": ".venv",
   "language": "python",
   "name": "python3"
  },
  "language_info": {
   "codemirror_mode": {
    "name": "ipython",
    "version": 3
   },
   "file_extension": ".py",
   "mimetype": "text/x-python",
   "name": "python",
   "nbconvert_exporter": "python",
   "pygments_lexer": "ipython3",
   "version": "3.12.3"
  }
 },
 "nbformat": 4,
 "nbformat_minor": 5
}
